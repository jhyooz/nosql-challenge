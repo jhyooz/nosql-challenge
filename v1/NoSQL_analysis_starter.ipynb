{
 "cells": [
  {
   "cell_type": "markdown",
   "id": "9a57c4c6",
   "metadata": {},
   "source": [
    "# Eat Safe, Love"
   ]
  },
  {
   "cell_type": "markdown",
   "id": "064ef857",
   "metadata": {},
   "source": [
    "## Notebook Set Up"
   ]
  },
  {
   "cell_type": "code",
   "execution_count": 1,
   "id": "3ecdd008",
   "metadata": {
    "ExecuteTime": {
     "end_time": "2024-02-13T00:22:46.752582Z",
     "start_time": "2024-02-13T00:22:46.420356Z"
    }
   },
   "outputs": [],
   "source": [
    "# Import dependencies\n",
    "from pymongo import MongoClient\n",
    "from pprint import pprint\n",
    "import pandas as pd"
   ]
  },
  {
   "cell_type": "code",
   "execution_count": 2,
   "id": "59390c4a",
   "metadata": {
    "ExecuteTime": {
     "end_time": "2024-02-13T00:22:46.753031Z",
     "start_time": "2024-02-13T00:22:46.744121Z"
    }
   },
   "outputs": [],
   "source": [
    "# Create an instance of MongoClient\n",
    "mongo = MongoClient(port=27017)"
   ]
  },
  {
   "cell_type": "code",
   "execution_count": 3,
   "id": "71e373c1",
   "metadata": {
    "ExecuteTime": {
     "end_time": "2024-02-13T00:22:46.757894Z",
     "start_time": "2024-02-13T00:22:46.753146Z"
    }
   },
   "outputs": [],
   "source": [
    "# assign the uk_food database to a variable name\n",
    "db = mongo['uk_food']"
   ]
  },
  {
   "cell_type": "code",
   "execution_count": 4,
   "id": "18ab463c",
   "metadata": {
    "ExecuteTime": {
     "end_time": "2024-02-13T00:22:46.761997Z",
     "start_time": "2024-02-13T00:22:46.756983Z"
    }
   },
   "outputs": [
    {
     "data": {
      "text/plain": "['establishments']"
     },
     "execution_count": 4,
     "metadata": {},
     "output_type": "execute_result"
    }
   ],
   "source": [
    "# review the collections in our database\n",
    "db.list_collection_names()"
   ]
  },
  {
   "cell_type": "code",
   "execution_count": 5,
   "id": "11c9f11b",
   "metadata": {
    "ExecuteTime": {
     "end_time": "2024-02-13T00:22:46.766402Z",
     "start_time": "2024-02-13T00:22:46.762617Z"
    }
   },
   "outputs": [],
   "source": [
    "# assign the collection to a variable\n",
    "establishments = db['establishments']"
   ]
  },
  {
   "cell_type": "markdown",
   "id": "d5671434",
   "metadata": {},
   "source": [
    "## Part 3: Exploratory Analysis\n",
    "Unless otherwise stated, for each question: \n",
    "* Use `count_documents` to display the number of documents contained in the result.\n",
    "* Display the first document in the results using `pprint`.\n",
    "* Convert the result to a Pandas DataFrame, print the number of rows in the DataFrame, and display the first 10 rows."
   ]
  },
  {
   "cell_type": "markdown",
   "id": "314bd884",
   "metadata": {},
   "source": [
    "### 1. Which establishments have a hygiene score equal to 20?"
   ]
  },
  {
   "cell_type": "code",
   "execution_count": 6,
   "id": "c2da7648",
   "metadata": {
    "ExecuteTime": {
     "end_time": "2024-02-13T00:22:46.808992Z",
     "start_time": "2024-02-13T00:22:46.764920Z"
    }
   },
   "outputs": [
    {
     "name": "stdout",
     "output_type": "stream",
     "text": [
      "Number of establishments with a hygiene score of 20:  41\n",
      "{'AddressLine1': '5-6 Southfields Road',\n",
      " 'AddressLine2': 'Eastbourne',\n",
      " 'AddressLine3': 'East Sussex',\n",
      " 'AddressLine4': '',\n",
      " 'BusinessName': 'The Chase Rest Home',\n",
      " 'BusinessType': 'Caring Premises',\n",
      " 'BusinessTypeID': 5,\n",
      " 'ChangesByServerID': 0,\n",
      " 'Distance': 4613.888288172291,\n",
      " 'FHRSID': 110681,\n",
      " 'LocalAuthorityBusinessID': '4029',\n",
      " 'LocalAuthorityCode': '102',\n",
      " 'LocalAuthorityEmailAddress': 'Customerfirst@eastbourne.gov.uk',\n",
      " 'LocalAuthorityName': 'Eastbourne',\n",
      " 'LocalAuthorityWebSite': 'http://www.eastbourne.gov.uk/foodratings',\n",
      " 'NewRatingPending': False,\n",
      " 'Phone': '',\n",
      " 'PostCode': 'BN21 1BU',\n",
      " 'RatingDate': '2021-09-23T00:00:00',\n",
      " 'RatingKey': 'fhrs_0_en-gb',\n",
      " 'RatingValue': 0,\n",
      " 'RightToReply': '',\n",
      " 'SchemeType': 'FHRS',\n",
      " '_id': ObjectId('65cab5ec2f9b69ddb2cacc0b'),\n",
      " 'geocode': {'latitude': Decimal128('50.769705'),\n",
      "             'longitude': Decimal128('0.27694')},\n",
      " 'links': [{'href': 'https://api.ratings.food.gov.uk/establishments/110681',\n",
      "            'rel': 'self'}],\n",
      " 'meta': {'dataSource': None,\n",
      "          'extractDate': '0001-01-01T00:00:00',\n",
      "          'itemCount': 0,\n",
      "          'pageNumber': 0,\n",
      "          'pageSize': 0,\n",
      "          'returncode': None,\n",
      "          'totalCount': 0,\n",
      "          'totalPages': 0},\n",
      " 'scores': {'ConfidenceInManagement': 20, 'Hygiene': 20, 'Structural': 20}}\n"
     ]
    }
   ],
   "source": [
    "# Find the establishments with a hygiene score of 20\n",
    "hygiene_query = {'scores.Hygiene':20}\n",
    "\n",
    "# Use count_documents to display the number of documents in the result\n",
    "hygiene_count = establishments.count_documents(hygiene_query)\n",
    "print('Number of establishments with a hygiene score of 20: ', hygiene_count)\n",
    "\n",
    "# Display the first document in the results using pprint\n",
    "pprint(establishments.find_one(hygiene_query))"
   ]
  },
  {
   "cell_type": "code",
   "execution_count": 7,
   "id": "a6e5cece",
   "metadata": {
    "ExecuteTime": {
     "end_time": "2024-02-13T00:22:46.842101Z",
     "start_time": "2024-02-13T00:22:46.807385Z"
    }
   },
   "outputs": [
    {
     "name": "stdout",
     "output_type": "stream",
     "text": [
      "Number of dataframe rows:  41\n"
     ]
    },
    {
     "data": {
      "text/plain": "                        _id   FHRSID  ChangesByServerID  \\\n0  65cab5ec2f9b69ddb2cacc0b   110681                  0   \n1  65cab5ec2f9b69ddb2cacf8f   612039                  0   \n2  65cab5ec2f9b69ddb2cad293   730933                  0   \n3  65cab5ec2f9b69ddb2cad487   172735                  0   \n4  65cab5ec2f9b69ddb2cad495   172953                  0   \n5  65cab5ec2f9b69ddb2cade30   512854                  0   \n6  65cab5ec2f9b69ddb2cae055  1537089                  0   \n7  65cab5ec2f9b69ddb2caf57a   155648                  0   \n8  65cab5ec2f9b69ddb2caf9c5  1012883                  0   \n9  65cab5ec2f9b69ddb2cb01da   644109                  0   \n\n  LocalAuthorityBusinessID               BusinessName  \\\n0                     4029        The Chase Rest Home   \n1                1970/FOOD                 Brenalwood   \n2                1698/FOOD              Melrose Hotel   \n3             PI/000023858              Seaford Pizza   \n4             PI/000024532              Golden Palace   \n5            12/00816/BUTH           Ashby's Butchers   \n6          22/00224/RESTUN  South Sea Express Cuisine   \n7              EH/00006058              Golden Palace   \n8         17/00110/MIXED/S             The Tulip Tree   \n9                    41811                      F & S   \n\n                        BusinessType  BusinessTypeID           AddressLine1  \\\n0                    Caring Premises               5   5-6 Southfields Road   \n1                    Caring Premises               5              Hall Lane   \n2  Hotel/bed & breakfast/guest house            7842  53 Marine Parade East   \n3             Takeaway/sandwich shop            7844          4 High Street   \n4            Restaurant/Cafe/Canteen               1         5 South Street   \n5                  Retailers - other            4613   777 Southchurch Road   \n6            Restaurant/Cafe/Canteen               1    33 Alexandra Street   \n7             Takeaway/sandwich shop            7844          7 London Road   \n8            Restaurant/Cafe/Canteen               1          3 The Village   \n9                  Retailers - other            4613                          \n\n         AddressLine2 AddressLine3  ...  \\\n0          Eastbourne  East Sussex  ...   \n1  Walton-on-the-Naze        Essex  ...   \n2      Clacton On Sea        Essex  ...   \n3             Seaford  East Sussex  ...   \n4             Seaford  East Sussex  ...   \n5     Southend-On-Sea        Essex  ...   \n6     Southend-on-sea        Essex  ...   \n7            Rayleigh        Essex  ...   \n8       Chiddingstone         KENT  ...   \n9      81 Southernhay     Basildon  ...   \n\n                      LocalAuthorityWebSite  \\\n0  http://www.eastbourne.gov.uk/foodratings   \n1             http://www.tendringdc.gov.uk/   \n2             http://www.tendringdc.gov.uk/   \n3       http://www.lewes-eastbourne.gov.uk/   \n4       http://www.lewes-eastbourne.gov.uk/   \n5                http://www.southend.gov.uk   \n6                http://www.southend.gov.uk   \n7                http://www.rochford.gov.uk   \n8              http://www.sevenoaks.gov.uk/   \n9                http://www.basildon.gov.uk   \n\n              LocalAuthorityEmailAddress  \\\n0        Customerfirst@eastbourne.gov.uk   \n1             fhsadmin@tendringdc.gov.uk   \n2             fhsadmin@tendringdc.gov.uk   \n3    ehealth.ldc@lewes-eastbourne.gov.uk   \n4    ehealth.ldc@lewes-eastbourne.gov.uk   \n5    EnvironmentalHealth@southend.gov.uk   \n6    EnvironmentalHealth@southend.gov.uk   \n7       customerservices@rochford.gov.uk   \n8  environmental.health@sevenoaks.gov.uk   \n9                    ehs@basildon.gov.uk   \n\n                                              scores  SchemeType  \\\n0  {'Hygiene': 20, 'Structural': 20, 'ConfidenceI...        FHRS   \n1  {'Hygiene': 20, 'Structural': 15, 'ConfidenceI...        FHRS   \n2  {'Hygiene': 20, 'Structural': 20, 'ConfidenceI...        FHRS   \n3  {'Hygiene': 20, 'Structural': 10, 'ConfidenceI...        FHRS   \n4  {'Hygiene': 20, 'Structural': 10, 'ConfidenceI...        FHRS   \n5  {'Hygiene': 20, 'Structural': 20, 'ConfidenceI...        FHRS   \n6  {'Hygiene': 20, 'Structural': 20, 'ConfidenceI...        FHRS   \n7  {'Hygiene': 20, 'Structural': 15, 'ConfidenceI...        FHRS   \n8  {'Hygiene': 20, 'Structural': 5, 'ConfidenceIn...        FHRS   \n9  {'Hygiene': 20, 'Structural': 20, 'ConfidenceI...        FHRS   \n\n                                             geocode RightToReply  \\\n0      {'longitude': 0.27694, 'latitude': 50.769705}                \n1     {'longitude': 1.278721, 'latitude': 51.857536}                \n2      {'longitude': 1.15927, 'latitude': 51.789429}                \n3      {'longitude': 0.10202, 'latitude': 50.770885}                \n4     {'longitude': 0.101446, 'latitude': 50.770724}                \n5     {'longitude': 0.736349, 'latitude': 51.541448}                \n6   {'longitude': 0.7121671, 'latitude': 51.5350065}                \n7     {'longitude': 0.602364, 'latitude': 51.591515}                \n8  {'longitude': 0.146449998021126, 'latitude': 5...                \n9      {'longitude': 0.462307, 'latitude': 51.57005}                \n\n      Distance NewRatingPending  \\\n0  4613.888288            False   \n1  4617.965824            False   \n2  4619.656144            False   \n3  4620.421725            False   \n4  4620.437179            False   \n5  4625.565258            False   \n6  4626.200132            False   \n7  4632.276890            False   \n8  4633.934041            False   \n9  4636.552523            False   \n\n                                                meta  \\\n0  {'dataSource': None, 'extractDate': '0001-01-0...   \n1  {'dataSource': None, 'extractDate': '0001-01-0...   \n2  {'dataSource': None, 'extractDate': '0001-01-0...   \n3  {'dataSource': None, 'extractDate': '0001-01-0...   \n4  {'dataSource': None, 'extractDate': '0001-01-0...   \n5  {'dataSource': None, 'extractDate': '0001-01-0...   \n6  {'dataSource': None, 'extractDate': '0001-01-0...   \n7  {'dataSource': None, 'extractDate': '0001-01-0...   \n8  {'dataSource': None, 'extractDate': '0001-01-0...   \n9  {'dataSource': None, 'extractDate': '0001-01-0...   \n\n                                               links  \n0  [{'rel': 'self', 'href': 'https://api.ratings....  \n1  [{'rel': 'self', 'href': 'https://api.ratings....  \n2  [{'rel': 'self', 'href': 'https://api.ratings....  \n3  [{'rel': 'self', 'href': 'https://api.ratings....  \n4  [{'rel': 'self', 'href': 'https://api.ratings....  \n5  [{'rel': 'self', 'href': 'https://api.ratings....  \n6  [{'rel': 'self', 'href': 'https://api.ratings....  \n7  [{'rel': 'self', 'href': 'http://api.ratings.f...  \n8  [{'rel': 'self', 'href': 'http://api.ratings.f...  \n9  [{'rel': 'self', 'href': 'http://api.ratings.f...  \n\n[10 rows x 28 columns]",
      "text/html": "<div>\n<style scoped>\n    .dataframe tbody tr th:only-of-type {\n        vertical-align: middle;\n    }\n\n    .dataframe tbody tr th {\n        vertical-align: top;\n    }\n\n    .dataframe thead th {\n        text-align: right;\n    }\n</style>\n<table border=\"1\" class=\"dataframe\">\n  <thead>\n    <tr style=\"text-align: right;\">\n      <th></th>\n      <th>_id</th>\n      <th>FHRSID</th>\n      <th>ChangesByServerID</th>\n      <th>LocalAuthorityBusinessID</th>\n      <th>BusinessName</th>\n      <th>BusinessType</th>\n      <th>BusinessTypeID</th>\n      <th>AddressLine1</th>\n      <th>AddressLine2</th>\n      <th>AddressLine3</th>\n      <th>...</th>\n      <th>LocalAuthorityWebSite</th>\n      <th>LocalAuthorityEmailAddress</th>\n      <th>scores</th>\n      <th>SchemeType</th>\n      <th>geocode</th>\n      <th>RightToReply</th>\n      <th>Distance</th>\n      <th>NewRatingPending</th>\n      <th>meta</th>\n      <th>links</th>\n    </tr>\n  </thead>\n  <tbody>\n    <tr>\n      <th>0</th>\n      <td>65cab5ec2f9b69ddb2cacc0b</td>\n      <td>110681</td>\n      <td>0</td>\n      <td>4029</td>\n      <td>The Chase Rest Home</td>\n      <td>Caring Premises</td>\n      <td>5</td>\n      <td>5-6 Southfields Road</td>\n      <td>Eastbourne</td>\n      <td>East Sussex</td>\n      <td>...</td>\n      <td>http://www.eastbourne.gov.uk/foodratings</td>\n      <td>Customerfirst@eastbourne.gov.uk</td>\n      <td>{'Hygiene': 20, 'Structural': 20, 'ConfidenceI...</td>\n      <td>FHRS</td>\n      <td>{'longitude': 0.27694, 'latitude': 50.769705}</td>\n      <td></td>\n      <td>4613.888288</td>\n      <td>False</td>\n      <td>{'dataSource': None, 'extractDate': '0001-01-0...</td>\n      <td>[{'rel': 'self', 'href': 'https://api.ratings....</td>\n    </tr>\n    <tr>\n      <th>1</th>\n      <td>65cab5ec2f9b69ddb2cacf8f</td>\n      <td>612039</td>\n      <td>0</td>\n      <td>1970/FOOD</td>\n      <td>Brenalwood</td>\n      <td>Caring Premises</td>\n      <td>5</td>\n      <td>Hall Lane</td>\n      <td>Walton-on-the-Naze</td>\n      <td>Essex</td>\n      <td>...</td>\n      <td>http://www.tendringdc.gov.uk/</td>\n      <td>fhsadmin@tendringdc.gov.uk</td>\n      <td>{'Hygiene': 20, 'Structural': 15, 'ConfidenceI...</td>\n      <td>FHRS</td>\n      <td>{'longitude': 1.278721, 'latitude': 51.857536}</td>\n      <td></td>\n      <td>4617.965824</td>\n      <td>False</td>\n      <td>{'dataSource': None, 'extractDate': '0001-01-0...</td>\n      <td>[{'rel': 'self', 'href': 'https://api.ratings....</td>\n    </tr>\n    <tr>\n      <th>2</th>\n      <td>65cab5ec2f9b69ddb2cad293</td>\n      <td>730933</td>\n      <td>0</td>\n      <td>1698/FOOD</td>\n      <td>Melrose Hotel</td>\n      <td>Hotel/bed &amp; breakfast/guest house</td>\n      <td>7842</td>\n      <td>53 Marine Parade East</td>\n      <td>Clacton On Sea</td>\n      <td>Essex</td>\n      <td>...</td>\n      <td>http://www.tendringdc.gov.uk/</td>\n      <td>fhsadmin@tendringdc.gov.uk</td>\n      <td>{'Hygiene': 20, 'Structural': 20, 'ConfidenceI...</td>\n      <td>FHRS</td>\n      <td>{'longitude': 1.15927, 'latitude': 51.789429}</td>\n      <td></td>\n      <td>4619.656144</td>\n      <td>False</td>\n      <td>{'dataSource': None, 'extractDate': '0001-01-0...</td>\n      <td>[{'rel': 'self', 'href': 'https://api.ratings....</td>\n    </tr>\n    <tr>\n      <th>3</th>\n      <td>65cab5ec2f9b69ddb2cad487</td>\n      <td>172735</td>\n      <td>0</td>\n      <td>PI/000023858</td>\n      <td>Seaford Pizza</td>\n      <td>Takeaway/sandwich shop</td>\n      <td>7844</td>\n      <td>4 High Street</td>\n      <td>Seaford</td>\n      <td>East Sussex</td>\n      <td>...</td>\n      <td>http://www.lewes-eastbourne.gov.uk/</td>\n      <td>ehealth.ldc@lewes-eastbourne.gov.uk</td>\n      <td>{'Hygiene': 20, 'Structural': 10, 'ConfidenceI...</td>\n      <td>FHRS</td>\n      <td>{'longitude': 0.10202, 'latitude': 50.770885}</td>\n      <td></td>\n      <td>4620.421725</td>\n      <td>False</td>\n      <td>{'dataSource': None, 'extractDate': '0001-01-0...</td>\n      <td>[{'rel': 'self', 'href': 'https://api.ratings....</td>\n    </tr>\n    <tr>\n      <th>4</th>\n      <td>65cab5ec2f9b69ddb2cad495</td>\n      <td>172953</td>\n      <td>0</td>\n      <td>PI/000024532</td>\n      <td>Golden Palace</td>\n      <td>Restaurant/Cafe/Canteen</td>\n      <td>1</td>\n      <td>5 South Street</td>\n      <td>Seaford</td>\n      <td>East Sussex</td>\n      <td>...</td>\n      <td>http://www.lewes-eastbourne.gov.uk/</td>\n      <td>ehealth.ldc@lewes-eastbourne.gov.uk</td>\n      <td>{'Hygiene': 20, 'Structural': 10, 'ConfidenceI...</td>\n      <td>FHRS</td>\n      <td>{'longitude': 0.101446, 'latitude': 50.770724}</td>\n      <td></td>\n      <td>4620.437179</td>\n      <td>False</td>\n      <td>{'dataSource': None, 'extractDate': '0001-01-0...</td>\n      <td>[{'rel': 'self', 'href': 'https://api.ratings....</td>\n    </tr>\n    <tr>\n      <th>5</th>\n      <td>65cab5ec2f9b69ddb2cade30</td>\n      <td>512854</td>\n      <td>0</td>\n      <td>12/00816/BUTH</td>\n      <td>Ashby's Butchers</td>\n      <td>Retailers - other</td>\n      <td>4613</td>\n      <td>777 Southchurch Road</td>\n      <td>Southend-On-Sea</td>\n      <td>Essex</td>\n      <td>...</td>\n      <td>http://www.southend.gov.uk</td>\n      <td>EnvironmentalHealth@southend.gov.uk</td>\n      <td>{'Hygiene': 20, 'Structural': 20, 'ConfidenceI...</td>\n      <td>FHRS</td>\n      <td>{'longitude': 0.736349, 'latitude': 51.541448}</td>\n      <td></td>\n      <td>4625.565258</td>\n      <td>False</td>\n      <td>{'dataSource': None, 'extractDate': '0001-01-0...</td>\n      <td>[{'rel': 'self', 'href': 'https://api.ratings....</td>\n    </tr>\n    <tr>\n      <th>6</th>\n      <td>65cab5ec2f9b69ddb2cae055</td>\n      <td>1537089</td>\n      <td>0</td>\n      <td>22/00224/RESTUN</td>\n      <td>South Sea Express Cuisine</td>\n      <td>Restaurant/Cafe/Canteen</td>\n      <td>1</td>\n      <td>33 Alexandra Street</td>\n      <td>Southend-on-sea</td>\n      <td>Essex</td>\n      <td>...</td>\n      <td>http://www.southend.gov.uk</td>\n      <td>EnvironmentalHealth@southend.gov.uk</td>\n      <td>{'Hygiene': 20, 'Structural': 20, 'ConfidenceI...</td>\n      <td>FHRS</td>\n      <td>{'longitude': 0.7121671, 'latitude': 51.5350065}</td>\n      <td></td>\n      <td>4626.200132</td>\n      <td>False</td>\n      <td>{'dataSource': None, 'extractDate': '0001-01-0...</td>\n      <td>[{'rel': 'self', 'href': 'https://api.ratings....</td>\n    </tr>\n    <tr>\n      <th>7</th>\n      <td>65cab5ec2f9b69ddb2caf57a</td>\n      <td>155648</td>\n      <td>0</td>\n      <td>EH/00006058</td>\n      <td>Golden Palace</td>\n      <td>Takeaway/sandwich shop</td>\n      <td>7844</td>\n      <td>7 London Road</td>\n      <td>Rayleigh</td>\n      <td>Essex</td>\n      <td>...</td>\n      <td>http://www.rochford.gov.uk</td>\n      <td>customerservices@rochford.gov.uk</td>\n      <td>{'Hygiene': 20, 'Structural': 15, 'ConfidenceI...</td>\n      <td>FHRS</td>\n      <td>{'longitude': 0.602364, 'latitude': 51.591515}</td>\n      <td></td>\n      <td>4632.276890</td>\n      <td>False</td>\n      <td>{'dataSource': None, 'extractDate': '0001-01-0...</td>\n      <td>[{'rel': 'self', 'href': 'http://api.ratings.f...</td>\n    </tr>\n    <tr>\n      <th>8</th>\n      <td>65cab5ec2f9b69ddb2caf9c5</td>\n      <td>1012883</td>\n      <td>0</td>\n      <td>17/00110/MIXED/S</td>\n      <td>The Tulip Tree</td>\n      <td>Restaurant/Cafe/Canteen</td>\n      <td>1</td>\n      <td>3 The Village</td>\n      <td>Chiddingstone</td>\n      <td>KENT</td>\n      <td>...</td>\n      <td>http://www.sevenoaks.gov.uk/</td>\n      <td>environmental.health@sevenoaks.gov.uk</td>\n      <td>{'Hygiene': 20, 'Structural': 5, 'ConfidenceIn...</td>\n      <td>FHRS</td>\n      <td>{'longitude': 0.146449998021126, 'latitude': 5...</td>\n      <td></td>\n      <td>4633.934041</td>\n      <td>False</td>\n      <td>{'dataSource': None, 'extractDate': '0001-01-0...</td>\n      <td>[{'rel': 'self', 'href': 'http://api.ratings.f...</td>\n    </tr>\n    <tr>\n      <th>9</th>\n      <td>65cab5ec2f9b69ddb2cb01da</td>\n      <td>644109</td>\n      <td>0</td>\n      <td>41811</td>\n      <td>F &amp; S</td>\n      <td>Retailers - other</td>\n      <td>4613</td>\n      <td></td>\n      <td>81 Southernhay</td>\n      <td>Basildon</td>\n      <td>...</td>\n      <td>http://www.basildon.gov.uk</td>\n      <td>ehs@basildon.gov.uk</td>\n      <td>{'Hygiene': 20, 'Structural': 20, 'ConfidenceI...</td>\n      <td>FHRS</td>\n      <td>{'longitude': 0.462307, 'latitude': 51.57005}</td>\n      <td></td>\n      <td>4636.552523</td>\n      <td>False</td>\n      <td>{'dataSource': None, 'extractDate': '0001-01-0...</td>\n      <td>[{'rel': 'self', 'href': 'http://api.ratings.f...</td>\n    </tr>\n  </tbody>\n</table>\n<p>10 rows × 28 columns</p>\n</div>"
     },
     "execution_count": 7,
     "metadata": {},
     "output_type": "execute_result"
    }
   ],
   "source": [
    "# Convert the result to a Pandas DataFrame\n",
    "hygiene_df = pd.DataFrame(establishments.find(hygiene_query))\n",
    "\n",
    "# Display the number of rows in the DataFrame\n",
    "print('Number of dataframe rows: ', len(hygiene_df))\n",
    "\n",
    "# Display the first 10 rows of the DataFrame\n",
    "hygiene_df.head(10)"
   ]
  },
  {
   "cell_type": "markdown",
   "id": "0ef4395a",
   "metadata": {},
   "source": [
    "### 2. Which establishments in London have a `RatingValue` greater than or equal to 4?"
   ]
  },
  {
   "cell_type": "code",
   "execution_count": 8,
   "id": "93c63829",
   "metadata": {
    "ExecuteTime": {
     "end_time": "2024-02-13T00:22:46.912013Z",
     "start_time": "2024-02-13T00:22:46.842365Z"
    }
   },
   "outputs": [
    {
     "name": "stdout",
     "output_type": "stream",
     "text": [
      "Number of establishments in London with a Rating Value of 4 or more:  33\n",
      "{'AddressLine1': 'Oak Apple Farm Building 103 Sheernes Docks',\n",
      " 'AddressLine2': 'Sheppy Kent',\n",
      " 'AddressLine3': '',\n",
      " 'AddressLine4': '',\n",
      " 'BusinessName': \"Charlie's\",\n",
      " 'BusinessType': 'Other catering premises',\n",
      " 'BusinessTypeID': 7841,\n",
      " 'ChangesByServerID': 0,\n",
      " 'Distance': 4627.439467780196,\n",
      " 'FHRSID': 621707,\n",
      " 'LocalAuthorityBusinessID': 'PI/000025307',\n",
      " 'LocalAuthorityCode': '508',\n",
      " 'LocalAuthorityEmailAddress': 'publicprotection@cityoflondon.gov.uk',\n",
      " 'LocalAuthorityName': 'City of London Corporation',\n",
      " 'LocalAuthorityWebSite': 'http://www.cityoflondon.gov.uk/Corporation/homepage.htm',\n",
      " 'NewRatingPending': False,\n",
      " 'Phone': '',\n",
      " 'PostCode': 'ME12',\n",
      " 'RatingDate': '2021-10-18T00:00:00',\n",
      " 'RatingKey': 'fhrs_4_en-gb',\n",
      " 'RatingValue': 4,\n",
      " 'RightToReply': '',\n",
      " 'SchemeType': 'FHRS',\n",
      " '_id': ObjectId('65cab5ec2f9b69ddb2cae62f'),\n",
      " 'geocode': {'latitude': Decimal128('51.369321'),\n",
      "             'longitude': Decimal128('0.508551')},\n",
      " 'links': [{'href': 'https://api.ratings.food.gov.uk/establishments/621707',\n",
      "            'rel': 'self'}],\n",
      " 'meta': {'dataSource': None,\n",
      "          'extractDate': '0001-01-01T00:00:00',\n",
      "          'itemCount': 0,\n",
      "          'pageNumber': 0,\n",
      "          'pageSize': 0,\n",
      "          'returncode': None,\n",
      "          'totalCount': 0,\n",
      "          'totalPages': 0},\n",
      " 'scores': {'ConfidenceInManagement': 5, 'Hygiene': 5, 'Structural': 10}}\n"
     ]
    }
   ],
   "source": [
    "# Find the establishments with London as the Local Authority and has a RatingValue greater than or equal to 4.\n",
    "rating_query = {'LocalAuthorityName':{'$regex':'London'},'RatingValue':{'$gte':4}}\n",
    "\n",
    "# Use count_documents to display the number of documents in the result\n",
    "rating_count = establishments.count_documents(rating_query)\n",
    "print('Number of establishments in London with a Rating Value of 4 or more: ', rating_count)\n",
    "\n",
    "# Display the first document in the results using pprint\n",
    "pprint(establishments.find_one(rating_query))"
   ]
  },
  {
   "cell_type": "code",
   "execution_count": 9,
   "id": "07e24ccb",
   "metadata": {
    "ExecuteTime": {
     "end_time": "2024-02-13T00:22:46.943024Z",
     "start_time": "2024-02-13T00:22:46.881548Z"
    }
   },
   "outputs": [
    {
     "name": "stdout",
     "output_type": "stream",
     "text": [
      "Number of dataframe rows:  33\n"
     ]
    },
    {
     "data": {
      "text/plain": "                        _id   FHRSID  ChangesByServerID  \\\n0  65cab5ec2f9b69ddb2cae62f   621707                  0   \n1  65cab5ec2f9b69ddb2cae954  1130836                  0   \n2  65cab5ec2f9b69ddb2caf49b   293783                  0   \n3  65cab5ec2f9b69ddb2cb029d   294474                  0   \n4  65cab5ec2f9b69ddb2cb02a2  1315095                  0   \n5  65cab5ec2f9b69ddb2cb09a2   294900                  0   \n6  65cab5ec2f9b69ddb2cb2ab3   293756                  0   \n7  65cab5ec2f9b69ddb2cb2e80   878523                  0   \n8  65cab5ec2f9b69ddb2cb2e8f   295107                  0   \n9  65cab5ec2f9b69ddb2cb2e97   294606                  0   \n\n  LocalAuthorityBusinessID                          BusinessName  \\\n0             PI/000025307                             Charlie's   \n1             PI/000034075               Mv City Cruises Erasmus   \n2             PI/000002614             Benfleet Motor Yacht Club   \n3             PI/000014647              Tilbury Seafarers Centre   \n4             PI/000036464  Coombs Catering t/a The Lock and Key   \n5             PI/000019066                            Mv Valulla   \n6             PI/000002538                         Tereza Joanne   \n7             PI/000029844                      Brick Lane Brews   \n8             PI/000020749                      City Bar & Grill   \n9             PI/000016185                              WH Smith   \n\n              BusinessType  BusinessTypeID  \\\n0  Other catering premises            7841   \n1  Other catering premises            7841   \n2  Other catering premises            7841   \n3  Restaurant/Cafe/Canteen               1   \n4  Restaurant/Cafe/Canteen               1   \n5  Other catering premises            7841   \n6  Other catering premises            7841   \n7  Restaurant/Cafe/Canteen               1   \n8  Restaurant/Cafe/Canteen               1   \n9        Retailers - other            4613   \n\n                                        AddressLine1  \\\n0         Oak Apple Farm Building 103 Sheernes Docks   \n1                                 Cherry Garden Pier   \n2                                         Ferry Road   \n3                          Tenants Row Tilbury Docks   \n4                                  Leslie Ford House   \n5  Reeds River Cruises LtdKings ReachRiver Thames...   \n6  Funcraft UK Ltd King George V Dock Woolwich Ma...   \n7                       Air side London City Airport   \n8                      London City Airport (Airside)   \n9                                London City Airport   \n\n                       AddressLine2 AddressLine3  ...  \\\n0                       Sheppy Kent               ...   \n1  Cherry Garden Street Rotherhithe     Charlton  ...   \n2              South Benfleet Essex               ...   \n3                     Tilbury Essex               ...   \n4                           Tilbury     Charlton  ...   \n5                            London               ...   \n6                            London               ...   \n7                            London               ...   \n8                            London               ...   \n9                 Silvertown London               ...   \n\n                               LocalAuthorityWebSite  \\\n0  http://www.cityoflondon.gov.uk/Corporation/hom...   \n1  http://www.cityoflondon.gov.uk/Corporation/hom...   \n2  http://www.cityoflondon.gov.uk/Corporation/hom...   \n3  http://www.cityoflondon.gov.uk/Corporation/hom...   \n4  http://www.cityoflondon.gov.uk/Corporation/hom...   \n5  http://www.cityoflondon.gov.uk/Corporation/hom...   \n6  http://www.cityoflondon.gov.uk/Corporation/hom...   \n7  http://www.cityoflondon.gov.uk/Corporation/hom...   \n8  http://www.cityoflondon.gov.uk/Corporation/hom...   \n9  http://www.cityoflondon.gov.uk/Corporation/hom...   \n\n             LocalAuthorityEmailAddress  \\\n0  publicprotection@cityoflondon.gov.uk   \n1  publicprotection@cityoflondon.gov.uk   \n2  publicprotection@cityoflondon.gov.uk   \n3  publicprotection@cityoflondon.gov.uk   \n4  publicprotection@cityoflondon.gov.uk   \n5  publicprotection@cityoflondon.gov.uk   \n6  publicprotection@cityoflondon.gov.uk   \n7  publicprotection@cityoflondon.gov.uk   \n8  publicprotection@cityoflondon.gov.uk   \n9  publicprotection@cityoflondon.gov.uk   \n\n                                              scores  SchemeType  \\\n0  {'Hygiene': 5, 'Structural': 10, 'ConfidenceIn...        FHRS   \n1  {'Hygiene': 0, 'Structural': 5, 'ConfidenceInM...        FHRS   \n2  {'Hygiene': 0, 'Structural': 0, 'ConfidenceInM...        FHRS   \n3  {'Hygiene': 0, 'Structural': 0, 'ConfidenceInM...        FHRS   \n4  {'Hygiene': 0, 'Structural': 5, 'ConfidenceInM...        FHRS   \n5  {'Hygiene': 0, 'Structural': 0, 'ConfidenceInM...        FHRS   \n6  {'Hygiene': 0, 'Structural': 5, 'ConfidenceInM...        FHRS   \n7  {'Hygiene': 10, 'Structural': 5, 'ConfidenceIn...        FHRS   \n8  {'Hygiene': 0, 'Structural': 5, 'ConfidenceInM...        FHRS   \n9  {'Hygiene': 0, 'Structural': 0, 'ConfidenceInM...        FHRS   \n\n                                             geocode RightToReply  \\\n0     {'longitude': 0.508551, 'latitude': 51.369321}                \n1  {'longitude': 0.249255999922752, 'latitude': 5...                \n2     {'longitude': 0.561954, 'latitude': 51.543831}                \n3     {'longitude': 0.346325, 'latitude': 51.464078}                \n4  {'longitude': 0.346336990594864, 'latitude': 5...                \n5     {'longitude': 0.287555, 'latitude': 51.504071}                \n6     {'longitude': 0.069286, 'latitude': 51.501121}                \n7     {'longitude': 0.048006, 'latitude': 51.503733}                \n8  {'longitude': 0.0479655750095844, 'latitude': ...                \n9  {'longitude': 0.0479655750095844, 'latitude': ...                \n\n      Distance NewRatingPending  \\\n0  4627.439468            False   \n1  4627.873179            False   \n2  4631.968418            False   \n3  4636.847650            False   \n4  4636.846754            False   \n5  4640.460834            False   \n6  4648.301822            False   \n7  4649.173485            False   \n8  4649.188850            False   \n9  4649.188850            False   \n\n                                                meta  \\\n0  {'dataSource': None, 'extractDate': '0001-01-0...   \n1  {'dataSource': None, 'extractDate': '0001-01-0...   \n2  {'dataSource': None, 'extractDate': '0001-01-0...   \n3  {'dataSource': None, 'extractDate': '0001-01-0...   \n4  {'dataSource': None, 'extractDate': '0001-01-0...   \n5  {'dataSource': None, 'extractDate': '0001-01-0...   \n6  {'dataSource': None, 'extractDate': '0001-01-0...   \n7  {'dataSource': None, 'extractDate': '0001-01-0...   \n8  {'dataSource': None, 'extractDate': '0001-01-0...   \n9  {'dataSource': None, 'extractDate': '0001-01-0...   \n\n                                               links  \n0  [{'rel': 'self', 'href': 'https://api.ratings....  \n1  [{'rel': 'self', 'href': 'http://api.ratings.f...  \n2  [{'rel': 'self', 'href': 'http://api.ratings.f...  \n3  [{'rel': 'self', 'href': 'http://api.ratings.f...  \n4  [{'rel': 'self', 'href': 'http://api.ratings.f...  \n5  [{'rel': 'self', 'href': 'http://api.ratings.f...  \n6  [{'rel': 'self', 'href': 'http://api.ratings.f...  \n7  [{'rel': 'self', 'href': 'http://api.ratings.f...  \n8  [{'rel': 'self', 'href': 'http://api.ratings.f...  \n9  [{'rel': 'self', 'href': 'http://api.ratings.f...  \n\n[10 rows x 28 columns]",
      "text/html": "<div>\n<style scoped>\n    .dataframe tbody tr th:only-of-type {\n        vertical-align: middle;\n    }\n\n    .dataframe tbody tr th {\n        vertical-align: top;\n    }\n\n    .dataframe thead th {\n        text-align: right;\n    }\n</style>\n<table border=\"1\" class=\"dataframe\">\n  <thead>\n    <tr style=\"text-align: right;\">\n      <th></th>\n      <th>_id</th>\n      <th>FHRSID</th>\n      <th>ChangesByServerID</th>\n      <th>LocalAuthorityBusinessID</th>\n      <th>BusinessName</th>\n      <th>BusinessType</th>\n      <th>BusinessTypeID</th>\n      <th>AddressLine1</th>\n      <th>AddressLine2</th>\n      <th>AddressLine3</th>\n      <th>...</th>\n      <th>LocalAuthorityWebSite</th>\n      <th>LocalAuthorityEmailAddress</th>\n      <th>scores</th>\n      <th>SchemeType</th>\n      <th>geocode</th>\n      <th>RightToReply</th>\n      <th>Distance</th>\n      <th>NewRatingPending</th>\n      <th>meta</th>\n      <th>links</th>\n    </tr>\n  </thead>\n  <tbody>\n    <tr>\n      <th>0</th>\n      <td>65cab5ec2f9b69ddb2cae62f</td>\n      <td>621707</td>\n      <td>0</td>\n      <td>PI/000025307</td>\n      <td>Charlie's</td>\n      <td>Other catering premises</td>\n      <td>7841</td>\n      <td>Oak Apple Farm Building 103 Sheernes Docks</td>\n      <td>Sheppy Kent</td>\n      <td></td>\n      <td>...</td>\n      <td>http://www.cityoflondon.gov.uk/Corporation/hom...</td>\n      <td>publicprotection@cityoflondon.gov.uk</td>\n      <td>{'Hygiene': 5, 'Structural': 10, 'ConfidenceIn...</td>\n      <td>FHRS</td>\n      <td>{'longitude': 0.508551, 'latitude': 51.369321}</td>\n      <td></td>\n      <td>4627.439468</td>\n      <td>False</td>\n      <td>{'dataSource': None, 'extractDate': '0001-01-0...</td>\n      <td>[{'rel': 'self', 'href': 'https://api.ratings....</td>\n    </tr>\n    <tr>\n      <th>1</th>\n      <td>65cab5ec2f9b69ddb2cae954</td>\n      <td>1130836</td>\n      <td>0</td>\n      <td>PI/000034075</td>\n      <td>Mv City Cruises Erasmus</td>\n      <td>Other catering premises</td>\n      <td>7841</td>\n      <td>Cherry Garden Pier</td>\n      <td>Cherry Garden Street Rotherhithe</td>\n      <td>Charlton</td>\n      <td>...</td>\n      <td>http://www.cityoflondon.gov.uk/Corporation/hom...</td>\n      <td>publicprotection@cityoflondon.gov.uk</td>\n      <td>{'Hygiene': 0, 'Structural': 5, 'ConfidenceInM...</td>\n      <td>FHRS</td>\n      <td>{'longitude': 0.249255999922752, 'latitude': 5...</td>\n      <td></td>\n      <td>4627.873179</td>\n      <td>False</td>\n      <td>{'dataSource': None, 'extractDate': '0001-01-0...</td>\n      <td>[{'rel': 'self', 'href': 'http://api.ratings.f...</td>\n    </tr>\n    <tr>\n      <th>2</th>\n      <td>65cab5ec2f9b69ddb2caf49b</td>\n      <td>293783</td>\n      <td>0</td>\n      <td>PI/000002614</td>\n      <td>Benfleet Motor Yacht Club</td>\n      <td>Other catering premises</td>\n      <td>7841</td>\n      <td>Ferry Road</td>\n      <td>South Benfleet Essex</td>\n      <td></td>\n      <td>...</td>\n      <td>http://www.cityoflondon.gov.uk/Corporation/hom...</td>\n      <td>publicprotection@cityoflondon.gov.uk</td>\n      <td>{'Hygiene': 0, 'Structural': 0, 'ConfidenceInM...</td>\n      <td>FHRS</td>\n      <td>{'longitude': 0.561954, 'latitude': 51.543831}</td>\n      <td></td>\n      <td>4631.968418</td>\n      <td>False</td>\n      <td>{'dataSource': None, 'extractDate': '0001-01-0...</td>\n      <td>[{'rel': 'self', 'href': 'http://api.ratings.f...</td>\n    </tr>\n    <tr>\n      <th>3</th>\n      <td>65cab5ec2f9b69ddb2cb029d</td>\n      <td>294474</td>\n      <td>0</td>\n      <td>PI/000014647</td>\n      <td>Tilbury Seafarers Centre</td>\n      <td>Restaurant/Cafe/Canteen</td>\n      <td>1</td>\n      <td>Tenants Row Tilbury Docks</td>\n      <td>Tilbury Essex</td>\n      <td></td>\n      <td>...</td>\n      <td>http://www.cityoflondon.gov.uk/Corporation/hom...</td>\n      <td>publicprotection@cityoflondon.gov.uk</td>\n      <td>{'Hygiene': 0, 'Structural': 0, 'ConfidenceInM...</td>\n      <td>FHRS</td>\n      <td>{'longitude': 0.346325, 'latitude': 51.464078}</td>\n      <td></td>\n      <td>4636.847650</td>\n      <td>False</td>\n      <td>{'dataSource': None, 'extractDate': '0001-01-0...</td>\n      <td>[{'rel': 'self', 'href': 'http://api.ratings.f...</td>\n    </tr>\n    <tr>\n      <th>4</th>\n      <td>65cab5ec2f9b69ddb2cb02a2</td>\n      <td>1315095</td>\n      <td>0</td>\n      <td>PI/000036464</td>\n      <td>Coombs Catering t/a The Lock and Key</td>\n      <td>Restaurant/Cafe/Canteen</td>\n      <td>1</td>\n      <td>Leslie Ford House</td>\n      <td>Tilbury</td>\n      <td>Charlton</td>\n      <td>...</td>\n      <td>http://www.cityoflondon.gov.uk/Corporation/hom...</td>\n      <td>publicprotection@cityoflondon.gov.uk</td>\n      <td>{'Hygiene': 0, 'Structural': 5, 'ConfidenceInM...</td>\n      <td>FHRS</td>\n      <td>{'longitude': 0.346336990594864, 'latitude': 5...</td>\n      <td></td>\n      <td>4636.846754</td>\n      <td>False</td>\n      <td>{'dataSource': None, 'extractDate': '0001-01-0...</td>\n      <td>[{'rel': 'self', 'href': 'http://api.ratings.f...</td>\n    </tr>\n    <tr>\n      <th>5</th>\n      <td>65cab5ec2f9b69ddb2cb09a2</td>\n      <td>294900</td>\n      <td>0</td>\n      <td>PI/000019066</td>\n      <td>Mv Valulla</td>\n      <td>Other catering premises</td>\n      <td>7841</td>\n      <td>Reeds River Cruises LtdKings ReachRiver Thames...</td>\n      <td>London</td>\n      <td></td>\n      <td>...</td>\n      <td>http://www.cityoflondon.gov.uk/Corporation/hom...</td>\n      <td>publicprotection@cityoflondon.gov.uk</td>\n      <td>{'Hygiene': 0, 'Structural': 0, 'ConfidenceInM...</td>\n      <td>FHRS</td>\n      <td>{'longitude': 0.287555, 'latitude': 51.504071}</td>\n      <td></td>\n      <td>4640.460834</td>\n      <td>False</td>\n      <td>{'dataSource': None, 'extractDate': '0001-01-0...</td>\n      <td>[{'rel': 'self', 'href': 'http://api.ratings.f...</td>\n    </tr>\n    <tr>\n      <th>6</th>\n      <td>65cab5ec2f9b69ddb2cb2ab3</td>\n      <td>293756</td>\n      <td>0</td>\n      <td>PI/000002538</td>\n      <td>Tereza Joanne</td>\n      <td>Other catering premises</td>\n      <td>7841</td>\n      <td>Funcraft UK Ltd King George V Dock Woolwich Ma...</td>\n      <td>London</td>\n      <td></td>\n      <td>...</td>\n      <td>http://www.cityoflondon.gov.uk/Corporation/hom...</td>\n      <td>publicprotection@cityoflondon.gov.uk</td>\n      <td>{'Hygiene': 0, 'Structural': 5, 'ConfidenceInM...</td>\n      <td>FHRS</td>\n      <td>{'longitude': 0.069286, 'latitude': 51.501121}</td>\n      <td></td>\n      <td>4648.301822</td>\n      <td>False</td>\n      <td>{'dataSource': None, 'extractDate': '0001-01-0...</td>\n      <td>[{'rel': 'self', 'href': 'http://api.ratings.f...</td>\n    </tr>\n    <tr>\n      <th>7</th>\n      <td>65cab5ec2f9b69ddb2cb2e80</td>\n      <td>878523</td>\n      <td>0</td>\n      <td>PI/000029844</td>\n      <td>Brick Lane Brews</td>\n      <td>Restaurant/Cafe/Canteen</td>\n      <td>1</td>\n      <td>Air side London City Airport</td>\n      <td>London</td>\n      <td></td>\n      <td>...</td>\n      <td>http://www.cityoflondon.gov.uk/Corporation/hom...</td>\n      <td>publicprotection@cityoflondon.gov.uk</td>\n      <td>{'Hygiene': 10, 'Structural': 5, 'ConfidenceIn...</td>\n      <td>FHRS</td>\n      <td>{'longitude': 0.048006, 'latitude': 51.503733}</td>\n      <td></td>\n      <td>4649.173485</td>\n      <td>False</td>\n      <td>{'dataSource': None, 'extractDate': '0001-01-0...</td>\n      <td>[{'rel': 'self', 'href': 'http://api.ratings.f...</td>\n    </tr>\n    <tr>\n      <th>8</th>\n      <td>65cab5ec2f9b69ddb2cb2e8f</td>\n      <td>295107</td>\n      <td>0</td>\n      <td>PI/000020749</td>\n      <td>City Bar &amp; Grill</td>\n      <td>Restaurant/Cafe/Canteen</td>\n      <td>1</td>\n      <td>London City Airport (Airside)</td>\n      <td>London</td>\n      <td></td>\n      <td>...</td>\n      <td>http://www.cityoflondon.gov.uk/Corporation/hom...</td>\n      <td>publicprotection@cityoflondon.gov.uk</td>\n      <td>{'Hygiene': 0, 'Structural': 5, 'ConfidenceInM...</td>\n      <td>FHRS</td>\n      <td>{'longitude': 0.0479655750095844, 'latitude': ...</td>\n      <td></td>\n      <td>4649.188850</td>\n      <td>False</td>\n      <td>{'dataSource': None, 'extractDate': '0001-01-0...</td>\n      <td>[{'rel': 'self', 'href': 'http://api.ratings.f...</td>\n    </tr>\n    <tr>\n      <th>9</th>\n      <td>65cab5ec2f9b69ddb2cb2e97</td>\n      <td>294606</td>\n      <td>0</td>\n      <td>PI/000016185</td>\n      <td>WH Smith</td>\n      <td>Retailers - other</td>\n      <td>4613</td>\n      <td>London City Airport</td>\n      <td>Silvertown London</td>\n      <td></td>\n      <td>...</td>\n      <td>http://www.cityoflondon.gov.uk/Corporation/hom...</td>\n      <td>publicprotection@cityoflondon.gov.uk</td>\n      <td>{'Hygiene': 0, 'Structural': 0, 'ConfidenceInM...</td>\n      <td>FHRS</td>\n      <td>{'longitude': 0.0479655750095844, 'latitude': ...</td>\n      <td></td>\n      <td>4649.188850</td>\n      <td>False</td>\n      <td>{'dataSource': None, 'extractDate': '0001-01-0...</td>\n      <td>[{'rel': 'self', 'href': 'http://api.ratings.f...</td>\n    </tr>\n  </tbody>\n</table>\n<p>10 rows × 28 columns</p>\n</div>"
     },
     "execution_count": 9,
     "metadata": {},
     "output_type": "execute_result"
    }
   ],
   "source": [
    "# Convert the result to a Pandas DataFrame\n",
    "rating_df = pd.DataFrame(establishments.find(rating_query))\n",
    "\n",
    "# Display the number of rows in the DataFrame\n",
    "print('Number of dataframe rows: ', len(rating_df))\n",
    "\n",
    "# Display the first 10 rows of the DataFrame\n",
    "rating_df.head(10)"
   ]
  },
  {
   "attachments": {},
   "cell_type": "markdown",
   "id": "4e570caf",
   "metadata": {},
   "source": [
    "### 3. What are the top 5 establishments with a `RatingValue` rating value of 5, sorted by lowest hygiene score, nearest to the new restaurant added, \"Penang Flavours\"?"
   ]
  },
  {
   "cell_type": "code",
   "outputs": [
    {
     "name": "stdout",
     "output_type": "stream",
     "text": [
      "{'_id': ObjectId('65cab5edc84cf17203c1c1e5'),\n",
      " 'geocode': {'latitude': Decimal128('51.49014200'),\n",
      "             'longitude': Decimal128('0.08384000')}}\n"
     ]
    }
   ],
   "source": [
    "# Find lat long of PF\n",
    "pprint(establishments.find_one({'BusinessName':'Penang Flavours'}, {'geocode.latitude','geocode.longitude'}))"
   ],
   "metadata": {
    "collapsed": false,
    "ExecuteTime": {
     "end_time": "2024-02-13T00:22:46.943391Z",
     "start_time": "2024-02-13T00:22:46.917866Z"
    }
   },
   "id": "92e81aa0686aacc6",
   "execution_count": 10
  },
  {
   "cell_type": "code",
   "outputs": [
    {
     "name": "stdout",
     "output_type": "stream",
     "text": [
      "{'AddressLine1': '35 Lakedale Road',\n",
      " 'AddressLine2': '',\n",
      " 'AddressLine3': 'Plumstead',\n",
      " 'AddressLine4': 'Greenwich',\n",
      " 'BusinessName': 'Atlantic Fish Bar',\n",
      " 'BusinessType': 'Takeaway/sandwich shop',\n",
      " 'BusinessTypeID': 7844,\n",
      " 'ChangesByServerID': 0,\n",
      " 'Distance': 4646.974611855838,\n",
      " 'FHRSID': 694478,\n",
      " 'LocalAuthorityBusinessID': 'PI/000086506',\n",
      " 'LocalAuthorityCode': '511',\n",
      " 'LocalAuthorityEmailAddress': 'health@royalgreenwich.gov.uk',\n",
      " 'LocalAuthorityName': 'Greenwich',\n",
      " 'LocalAuthorityWebSite': 'http://www.royalgreenwich.gov.uk',\n",
      " 'NewRatingPending': False,\n",
      " 'Phone': '',\n",
      " 'PostCode': 'SE18 1PR',\n",
      " 'RatingDate': '2021-06-16T00:00:00',\n",
      " 'RatingKey': 'fhrs_5_en-gb',\n",
      " 'RatingValue': 5,\n",
      " 'RightToReply': '',\n",
      " 'SchemeType': 'FHRS',\n",
      " '_id': ObjectId('65cab5ec2f9b69ddb2cb2488'),\n",
      " 'geocode': {'latitude': Decimal128('51.4867296'),\n",
      "             'longitude': Decimal128('0.0912164')},\n",
      " 'links': [{'href': 'http://api.ratings.food.gov.uk/establishments/694478',\n",
      "            'rel': 'self'}],\n",
      " 'meta': {'dataSource': None,\n",
      "          'extractDate': '0001-01-01T00:00:00',\n",
      "          'itemCount': 0,\n",
      "          'pageNumber': 0,\n",
      "          'pageSize': 0,\n",
      "          'returncode': None,\n",
      "          'totalCount': 0,\n",
      "          'totalPages': 0},\n",
      " 'scores': {'ConfidenceInManagement': 5, 'Hygiene': 0, 'Structural': 0}}\n",
      "{'AddressLine1': '12 - 14 Lakedale Road',\n",
      " 'AddressLine2': '',\n",
      " 'AddressLine3': 'Plumstead',\n",
      " 'AddressLine4': 'Greenwich',\n",
      " 'BusinessName': 'Abbi Wines',\n",
      " 'BusinessType': 'Retailers - other',\n",
      " 'BusinessTypeID': 4613,\n",
      " 'ChangesByServerID': 0,\n",
      " 'Distance': 4647.001583335365,\n",
      " 'FHRSID': 940026,\n",
      " 'LocalAuthorityBusinessID': 'PI/000177403',\n",
      " 'LocalAuthorityCode': '511',\n",
      " 'LocalAuthorityEmailAddress': 'health@royalgreenwich.gov.uk',\n",
      " 'LocalAuthorityName': 'Greenwich',\n",
      " 'LocalAuthorityWebSite': 'http://www.royalgreenwich.gov.uk',\n",
      " 'NewRatingPending': False,\n",
      " 'Phone': '',\n",
      " 'PostCode': 'SE18 1PP',\n",
      " 'RatingDate': '2021-08-23T00:00:00',\n",
      " 'RatingKey': 'fhrs_5_en-gb',\n",
      " 'RatingValue': 5,\n",
      " 'RightToReply': '',\n",
      " 'SchemeType': 'FHRS',\n",
      " '_id': ObjectId('65cab5ec2f9b69ddb2cb24c9'),\n",
      " 'geocode': {'latitude': Decimal128('51.4871401'),\n",
      "             'longitude': Decimal128('0.0908895')},\n",
      " 'links': [{'href': 'http://api.ratings.food.gov.uk/establishments/940026',\n",
      "            'rel': 'self'}],\n",
      " 'meta': {'dataSource': None,\n",
      "          'extractDate': '0001-01-01T00:00:00',\n",
      "          'itemCount': 0,\n",
      "          'pageNumber': 0,\n",
      "          'pageSize': 0,\n",
      "          'returncode': None,\n",
      "          'totalCount': 0,\n",
      "          'totalPages': 0},\n",
      " 'scores': {'ConfidenceInManagement': 0, 'Hygiene': 0, 'Structural': 0}}\n",
      "{'AddressLine1': 'Restaurant And Premises 107A Plumstead High Street',\n",
      " 'AddressLine2': '',\n",
      " 'AddressLine3': 'Plumstead',\n",
      " 'AddressLine4': 'Greenwich',\n",
      " 'BusinessName': 'Howe and Co Fish and Chips - Van 17',\n",
      " 'BusinessType': 'Mobile caterer',\n",
      " 'BusinessTypeID': 7846,\n",
      " 'ChangesByServerID': 0,\n",
      " 'Distance': 4646.95593107927,\n",
      " 'FHRSID': 1380578,\n",
      " 'LocalAuthorityBusinessID': '14425',\n",
      " 'LocalAuthorityCode': '511',\n",
      " 'LocalAuthorityEmailAddress': 'health@royalgreenwich.gov.uk',\n",
      " 'LocalAuthorityName': 'Greenwich',\n",
      " 'LocalAuthorityWebSite': 'http://www.royalgreenwich.gov.uk',\n",
      " 'NewRatingPending': False,\n",
      " 'Phone': '',\n",
      " 'PostCode': 'SE18 1SE',\n",
      " 'RatingDate': '2021-11-11T00:00:00',\n",
      " 'RatingKey': 'fhrs_5_en-gb',\n",
      " 'RatingValue': 5,\n",
      " 'RightToReply': '',\n",
      " 'SchemeType': 'FHRS',\n",
      " '_id': ObjectId('65cab5ec2f9b69ddb2cb244d'),\n",
      " 'geocode': {'latitude': Decimal128('51.4875335693359'),\n",
      "             'longitude': Decimal128('0.0925370007753372')},\n",
      " 'links': [{'href': 'http://api.ratings.food.gov.uk/establishments/1380578',\n",
      "            'rel': 'self'}],\n",
      " 'meta': {'dataSource': None,\n",
      "          'extractDate': '0001-01-01T00:00:00',\n",
      "          'itemCount': 0,\n",
      "          'pageNumber': 0,\n",
      "          'pageSize': 0,\n",
      "          'returncode': None,\n",
      "          'totalCount': 0,\n",
      "          'totalPages': 0},\n",
      " 'scores': {'ConfidenceInManagement': 0, 'Hygiene': 0, 'Structural': 0}}\n",
      "{'AddressLine1': '17 Lakedale Road',\n",
      " 'AddressLine2': '',\n",
      " 'AddressLine3': 'Plumstead',\n",
      " 'AddressLine4': 'Greenwich',\n",
      " 'BusinessName': 'Lumbini Grocery Ltd T/A Al-Iman',\n",
      " 'BusinessType': 'Retailers - other',\n",
      " 'BusinessTypeID': 4613,\n",
      " 'ChangesByServerID': 0,\n",
      " 'Distance': 4646.975587048333,\n",
      " 'FHRSID': 909912,\n",
      " 'LocalAuthorityBusinessID': 'PI/000201100',\n",
      " 'LocalAuthorityCode': '511',\n",
      " 'LocalAuthorityEmailAddress': 'health@royalgreenwich.gov.uk',\n",
      " 'LocalAuthorityName': 'Greenwich',\n",
      " 'LocalAuthorityWebSite': 'http://www.royalgreenwich.gov.uk',\n",
      " 'NewRatingPending': False,\n",
      " 'Phone': '',\n",
      " 'PostCode': 'SE18 1PP',\n",
      " 'RatingDate': '2020-10-20T00:00:00',\n",
      " 'RatingKey': 'fhrs_5_en-gb',\n",
      " 'RatingValue': 5,\n",
      " 'RightToReply': '',\n",
      " 'SchemeType': 'FHRS',\n",
      " '_id': ObjectId('65cab5ec2f9b69ddb2cb248a'),\n",
      " 'geocode': {'latitude': Decimal128('51.4871632'),\n",
      "             'longitude': Decimal128('0.0916256')},\n",
      " 'links': [{'href': 'http://api.ratings.food.gov.uk/establishments/909912',\n",
      "            'rel': 'self'}],\n",
      " 'meta': {'dataSource': None,\n",
      "          'extractDate': '0001-01-01T00:00:00',\n",
      "          'itemCount': 0,\n",
      "          'pageNumber': 0,\n",
      "          'pageSize': 0,\n",
      "          'returncode': None,\n",
      "          'totalCount': 0,\n",
      "          'totalPages': 0},\n",
      " 'scores': {'ConfidenceInManagement': 0, 'Hygiene': 0, 'Structural': 5}}\n",
      "{'AddressLine1': '18 Lakedale Road',\n",
      " 'AddressLine2': '',\n",
      " 'AddressLine3': 'Plumstead',\n",
      " 'AddressLine4': 'Greenwich',\n",
      " 'BusinessName': 'Tesco',\n",
      " 'BusinessType': 'Retailers - supermarkets/hypermarkets',\n",
      " 'BusinessTypeID': 7840,\n",
      " 'ChangesByServerID': 0,\n",
      " 'Distance': 4646.987290353701,\n",
      " 'FHRSID': 695204,\n",
      " 'LocalAuthorityBusinessID': 'PI/000177985',\n",
      " 'LocalAuthorityCode': '511',\n",
      " 'LocalAuthorityEmailAddress': 'health@royalgreenwich.gov.uk',\n",
      " 'LocalAuthorityName': 'Greenwich',\n",
      " 'LocalAuthorityWebSite': 'http://www.royalgreenwich.gov.uk',\n",
      " 'NewRatingPending': False,\n",
      " 'Phone': '',\n",
      " 'PostCode': 'SE18 1PP',\n",
      " 'RatingDate': '2020-10-20T00:00:00',\n",
      " 'RatingKey': 'fhrs_5_en-gb',\n",
      " 'RatingValue': 5,\n",
      " 'RightToReply': '',\n",
      " 'SchemeType': 'FHRS',\n",
      " '_id': ObjectId('65cab5ec2f9b69ddb2cb24a5'),\n",
      " 'geocode': {'latitude': Decimal128('51.4871406555176'),\n",
      "             'longitude': Decimal128('0.0912820026278496')},\n",
      " 'links': [{'href': 'http://api.ratings.food.gov.uk/establishments/695204',\n",
      "            'rel': 'self'}],\n",
      " 'meta': {'dataSource': None,\n",
      "          'extractDate': '0001-01-01T00:00:00',\n",
      "          'itemCount': 0,\n",
      "          'pageNumber': 0,\n",
      "          'pageSize': 0,\n",
      "          'returncode': None,\n",
      "          'totalCount': 0,\n",
      "          'totalPages': 0},\n",
      " 'scores': {'ConfidenceInManagement': 0, 'Hygiene': 0, 'Structural': 5}}\n",
      "{'AddressLine1': '107A Plumstead High Street',\n",
      " 'AddressLine2': '',\n",
      " 'AddressLine3': 'Plumstead',\n",
      " 'AddressLine4': 'Greenwich',\n",
      " 'BusinessName': 'Dosa & Sambal Express',\n",
      " 'BusinessType': 'Restaurant/Cafe/Canteen',\n",
      " 'BusinessTypeID': 1,\n",
      " 'ChangesByServerID': 0,\n",
      " 'Distance': 4646.999553676595,\n",
      " 'FHRSID': 1211907,\n",
      " 'LocalAuthorityBusinessID': '13217',\n",
      " 'LocalAuthorityCode': '511',\n",
      " 'LocalAuthorityEmailAddress': 'health@royalgreenwich.gov.uk',\n",
      " 'LocalAuthorityName': 'Greenwich',\n",
      " 'LocalAuthorityWebSite': 'http://www.royalgreenwich.gov.uk',\n",
      " 'NewRatingPending': False,\n",
      " 'Phone': '',\n",
      " 'PostCode': '',\n",
      " 'RatingDate': '2020-07-09T00:00:00',\n",
      " 'RatingKey': 'fhrs_5_en-gb',\n",
      " 'RatingValue': 5,\n",
      " 'RightToReply': '',\n",
      " 'SchemeType': 'FHRS',\n",
      " '_id': ObjectId('65cab5ec2f9b69ddb2cb24d2'),\n",
      " 'geocode': {'latitude': Decimal128('51.4877576'),\n",
      "             'longitude': Decimal128('0.091566')},\n",
      " 'links': [{'href': 'http://api.ratings.food.gov.uk/establishments/1211907',\n",
      "            'rel': 'self'}],\n",
      " 'meta': {'dataSource': None,\n",
      "          'extractDate': '0001-01-01T00:00:00',\n",
      "          'itemCount': 0,\n",
      "          'pageNumber': 0,\n",
      "          'pageSize': 0,\n",
      "          'returncode': None,\n",
      "          'totalCount': 0,\n",
      "          'totalPages': 0},\n",
      " 'scores': {'ConfidenceInManagement': 5, 'Hygiene': 0, 'Structural': 0}}\n",
      "{'AddressLine1': 'Plumstead Manor School Old Mill Road',\n",
      " 'AddressLine2': '',\n",
      " 'AddressLine3': 'Plumstead',\n",
      " 'AddressLine4': 'Greenwich',\n",
      " 'BusinessName': 'Plumstead Manor Nursery',\n",
      " 'BusinessType': 'Caring Premises',\n",
      " 'BusinessTypeID': 5,\n",
      " 'ChangesByServerID': 0,\n",
      " 'Distance': 4646.9740101340385,\n",
      " 'FHRSID': 695241,\n",
      " 'LocalAuthorityBusinessID': 'PI/000179088',\n",
      " 'LocalAuthorityCode': '511',\n",
      " 'LocalAuthorityEmailAddress': 'health@royalgreenwich.gov.uk',\n",
      " 'LocalAuthorityName': 'Greenwich',\n",
      " 'LocalAuthorityWebSite': 'http://www.royalgreenwich.gov.uk',\n",
      " 'NewRatingPending': False,\n",
      " 'Phone': '',\n",
      " 'PostCode': 'SE18 1QG',\n",
      " 'RatingDate': '2021-06-16T00:00:00',\n",
      " 'RatingKey': 'fhrs_5_en-gb',\n",
      " 'RatingValue': 5,\n",
      " 'RightToReply': '',\n",
      " 'SchemeType': 'FHRS',\n",
      " '_id': ObjectId('65cab5ec2f9b69ddb2cb2485'),\n",
      " 'geocode': {'latitude': Decimal128('51.481517791748'),\n",
      "             'longitude': Decimal128('0.0859939977526665')},\n",
      " 'links': [{'href': 'http://api.ratings.food.gov.uk/establishments/695241',\n",
      "            'rel': 'self'}],\n",
      " 'meta': {'dataSource': None,\n",
      "          'extractDate': '0001-01-01T00:00:00',\n",
      "          'itemCount': 0,\n",
      "          'pageNumber': 0,\n",
      "          'pageSize': 0,\n",
      "          'returncode': None,\n",
      "          'totalCount': 0,\n",
      "          'totalPages': 0},\n",
      " 'scores': {'ConfidenceInManagement': 5, 'Hygiene': 0, 'Structural': 0}}\n",
      "{'AddressLine1': '144 - 146 Plumstead High Street',\n",
      " 'AddressLine2': '',\n",
      " 'AddressLine3': 'Plumstead',\n",
      " 'AddressLine4': 'Greenwich',\n",
      " 'BusinessName': 'Iceland',\n",
      " 'BusinessType': 'Retailers - supermarkets/hypermarkets',\n",
      " 'BusinessTypeID': 7840,\n",
      " 'ChangesByServerID': 0,\n",
      " 'Distance': 4646.946071297699,\n",
      " 'FHRSID': 695223,\n",
      " 'LocalAuthorityBusinessID': 'PI/000178842',\n",
      " 'LocalAuthorityCode': '511',\n",
      " 'LocalAuthorityEmailAddress': 'health@royalgreenwich.gov.uk',\n",
      " 'LocalAuthorityName': 'Greenwich',\n",
      " 'LocalAuthorityWebSite': 'http://www.royalgreenwich.gov.uk',\n",
      " 'NewRatingPending': False,\n",
      " 'Phone': '',\n",
      " 'PostCode': 'SE18 1JQ',\n",
      " 'RatingDate': '2019-11-13T00:00:00',\n",
      " 'RatingKey': 'fhrs_5_en-gb',\n",
      " 'RatingValue': 5,\n",
      " 'RightToReply': '',\n",
      " 'SchemeType': 'FHRS',\n",
      " '_id': ObjectId('65cab5ec2f9b69ddb2cb2441'),\n",
      " 'geocode': {'latitude': Decimal128('51.4871482849121'),\n",
      "             'longitude': Decimal128('0.0924199968576431')},\n",
      " 'links': [{'href': 'http://api.ratings.food.gov.uk/establishments/695223',\n",
      "            'rel': 'self'}],\n",
      " 'meta': {'dataSource': None,\n",
      "          'extractDate': '0001-01-01T00:00:00',\n",
      "          'itemCount': 0,\n",
      "          'pageNumber': 0,\n",
      "          'pageSize': 0,\n",
      "          'returncode': None,\n",
      "          'totalCount': 0,\n",
      "          'totalPages': 0},\n",
      " 'scores': {'ConfidenceInManagement': 5, 'Hygiene': 0, 'Structural': 5}}\n",
      "{'AddressLine1': '130 - 132 Plumstead High Street',\n",
      " 'AddressLine2': '',\n",
      " 'AddressLine3': 'Plumstead',\n",
      " 'AddressLine4': 'Greenwich',\n",
      " 'BusinessName': 'Volunteer',\n",
      " 'BusinessType': 'Pub/bar/nightclub',\n",
      " 'BusinessTypeID': 7843,\n",
      " 'ChangesByServerID': 0,\n",
      " 'Distance': 4646.965634598608,\n",
      " 'FHRSID': 694609,\n",
      " 'LocalAuthorityBusinessID': 'PI/000116619',\n",
      " 'LocalAuthorityCode': '511',\n",
      " 'LocalAuthorityEmailAddress': 'health@royalgreenwich.gov.uk',\n",
      " 'LocalAuthorityName': 'Greenwich',\n",
      " 'LocalAuthorityWebSite': 'http://www.royalgreenwich.gov.uk',\n",
      " 'NewRatingPending': False,\n",
      " 'Phone': '',\n",
      " 'PostCode': 'SE18 1JQ',\n",
      " 'RatingDate': '2019-08-05T00:00:00',\n",
      " 'RatingKey': 'fhrs_5_en-gb',\n",
      " 'RatingValue': 5,\n",
      " 'RightToReply': '',\n",
      " 'SchemeType': 'FHRS',\n",
      " '_id': ObjectId('65cab5ec2f9b69ddb2cb246a'),\n",
      " 'geocode': {'latitude': Decimal128('51.4873437'),\n",
      "             'longitude': Decimal128('0.09208')},\n",
      " 'links': [{'href': 'http://api.ratings.food.gov.uk/establishments/694609',\n",
      "            'rel': 'self'}],\n",
      " 'meta': {'dataSource': None,\n",
      "          'extractDate': '0001-01-01T00:00:00',\n",
      "          'itemCount': 0,\n",
      "          'pageNumber': 0,\n",
      "          'pageSize': 0,\n",
      "          'returncode': None,\n",
      "          'totalCount': 0,\n",
      "          'totalPages': 0},\n",
      " 'scores': {'ConfidenceInManagement': 0, 'Hygiene': 0, 'Structural': 0}}\n",
      "{'AddressLine1': '6 Lakedale Road',\n",
      " 'AddressLine2': '',\n",
      " 'AddressLine3': 'Plumstead',\n",
      " 'AddressLine4': 'Greenwich',\n",
      " 'BusinessName': 'Greggs',\n",
      " 'BusinessType': 'Takeaway/sandwich shop',\n",
      " 'BusinessTypeID': 7844,\n",
      " 'ChangesByServerID': 0,\n",
      " 'Distance': 4646.987290353701,\n",
      " 'FHRSID': 694482,\n",
      " 'LocalAuthorityBusinessID': 'PI/000086551',\n",
      " 'LocalAuthorityCode': '511',\n",
      " 'LocalAuthorityEmailAddress': 'health@royalgreenwich.gov.uk',\n",
      " 'LocalAuthorityName': 'Greenwich',\n",
      " 'LocalAuthorityWebSite': 'http://www.royalgreenwich.gov.uk',\n",
      " 'NewRatingPending': False,\n",
      " 'Phone': '',\n",
      " 'PostCode': 'SE18 1PP',\n",
      " 'RatingDate': '2021-06-23T00:00:00',\n",
      " 'RatingKey': 'fhrs_5_en-gb',\n",
      " 'RatingValue': 5,\n",
      " 'RightToReply': '',\n",
      " 'SchemeType': 'FHRS',\n",
      " '_id': ObjectId('65cab5ec2f9b69ddb2cb24a0'),\n",
      " 'geocode': {'latitude': Decimal128('51.4871406555176'),\n",
      "             'longitude': Decimal128('0.0912820026278496')},\n",
      " 'links': [{'href': 'http://api.ratings.food.gov.uk/establishments/694482',\n",
      "            'rel': 'self'}],\n",
      " 'meta': {'dataSource': None,\n",
      "          'extractDate': '0001-01-01T00:00:00',\n",
      "          'itemCount': 0,\n",
      "          'pageNumber': 0,\n",
      "          'pageSize': 0,\n",
      "          'returncode': None,\n",
      "          'totalCount': 0,\n",
      "          'totalPages': 0},\n",
      " 'scores': {'ConfidenceInManagement': 0, 'Hygiene': 0, 'Structural': 0}}\n"
     ]
    }
   ],
   "source": [
    "# Search within 0.01 degree on either side of the latitude and longitude.\n",
    "# Rating value must equal 5\n",
    "# Sort by hygiene score\n",
    "\n",
    "degree_search = 0.01\n",
    "latitude = 51.49014200\n",
    "longitude = 0.08384000\n",
    "\n",
    "top_query = {'RatingValue': 5,\n",
    "             'geocode.latitude': {'$lte': (latitude + degree_search), '$gte':(latitude - degree_search)},\n",
    "             'geocode.longitude': {'$lte': (longitude + degree_search), '$gte':(longitude - degree_search)}}\n",
    "top_sort =  [('scores.Hygiene', 1)]\n",
    "\n",
    "\n",
    "# Print the results\n",
    "for result in establishments.find(top_query).sort(top_sort).limit(10):\n",
    "    pprint(result)"
   ],
   "metadata": {
    "ExecuteTime": {
     "end_time": "2024-02-13T00:22:47.004453Z",
     "start_time": "2024-02-13T00:22:46.935005Z"
    }
   },
   "id": "7f599f3d",
   "execution_count": 11
  },
  {
   "cell_type": "code",
   "execution_count": 12,
   "id": "a6ad16f7",
   "metadata": {
    "ExecuteTime": {
     "end_time": "2024-02-13T00:22:47.042206Z",
     "start_time": "2024-02-13T00:22:46.972729Z"
    }
   },
   "outputs": [
    {
     "data": {
      "text/plain": "                        _id   FHRSID  ChangesByServerID  \\\n0  65cab5ec2f9b69ddb2cb2488   694478                  0   \n1  65cab5ec2f9b69ddb2cb24c9   940026                  0   \n2  65cab5ec2f9b69ddb2cb244d  1380578                  0   \n3  65cab5ec2f9b69ddb2cb248a   909912                  0   \n4  65cab5ec2f9b69ddb2cb24a5   695204                  0   \n5  65cab5ec2f9b69ddb2cb24d2  1211907                  0   \n6  65cab5ec2f9b69ddb2cb2485   695241                  0   \n7  65cab5ec2f9b69ddb2cb2441   695223                  0   \n8  65cab5ec2f9b69ddb2cb246a   694609                  0   \n9  65cab5ec2f9b69ddb2cb24a0   694482                  0   \n\n  LocalAuthorityBusinessID                         BusinessName  \\\n0             PI/000086506                    Atlantic Fish Bar   \n1             PI/000177403                           Abbi Wines   \n2                    14425  Howe and Co Fish and Chips - Van 17   \n3             PI/000201100      Lumbini Grocery Ltd T/A Al-Iman   \n4             PI/000177985                                Tesco   \n5                    13217                Dosa & Sambal Express   \n6             PI/000179088              Plumstead Manor Nursery   \n7             PI/000178842                              Iceland   \n8             PI/000116619                            Volunteer   \n9             PI/000086551                               Greggs   \n\n                            BusinessType  BusinessTypeID  \\\n0                 Takeaway/sandwich shop            7844   \n1                      Retailers - other            4613   \n2                         Mobile caterer            7846   \n3                      Retailers - other            4613   \n4  Retailers - supermarkets/hypermarkets            7840   \n5                Restaurant/Cafe/Canteen               1   \n6                        Caring Premises               5   \n7  Retailers - supermarkets/hypermarkets            7840   \n8                      Pub/bar/nightclub            7843   \n9                 Takeaway/sandwich shop            7844   \n\n                                        AddressLine1 AddressLine2  \\\n0                                   35 Lakedale Road                \n1                              12 - 14 Lakedale Road                \n2  Restaurant And Premises 107A Plumstead High St...                \n3                                   17 Lakedale Road                \n4                                   18 Lakedale Road                \n5                         107A Plumstead High Street                \n6               Plumstead Manor School Old Mill Road                \n7                    144 - 146 Plumstead High Street                \n8                    130 - 132 Plumstead High Street                \n9                                    6 Lakedale Road                \n\n  AddressLine3  ...             LocalAuthorityWebSite  \\\n0    Plumstead  ...  http://www.royalgreenwich.gov.uk   \n1    Plumstead  ...  http://www.royalgreenwich.gov.uk   \n2    Plumstead  ...  http://www.royalgreenwich.gov.uk   \n3    Plumstead  ...  http://www.royalgreenwich.gov.uk   \n4    Plumstead  ...  http://www.royalgreenwich.gov.uk   \n5    Plumstead  ...  http://www.royalgreenwich.gov.uk   \n6    Plumstead  ...  http://www.royalgreenwich.gov.uk   \n7    Plumstead  ...  http://www.royalgreenwich.gov.uk   \n8    Plumstead  ...  http://www.royalgreenwich.gov.uk   \n9    Plumstead  ...  http://www.royalgreenwich.gov.uk   \n\n     LocalAuthorityEmailAddress  \\\n0  health@royalgreenwich.gov.uk   \n1  health@royalgreenwich.gov.uk   \n2  health@royalgreenwich.gov.uk   \n3  health@royalgreenwich.gov.uk   \n4  health@royalgreenwich.gov.uk   \n5  health@royalgreenwich.gov.uk   \n6  health@royalgreenwich.gov.uk   \n7  health@royalgreenwich.gov.uk   \n8  health@royalgreenwich.gov.uk   \n9  health@royalgreenwich.gov.uk   \n\n                                              scores  SchemeType  \\\n0  {'Hygiene': 0, 'Structural': 0, 'ConfidenceInM...        FHRS   \n1  {'Hygiene': 0, 'Structural': 0, 'ConfidenceInM...        FHRS   \n2  {'Hygiene': 0, 'Structural': 0, 'ConfidenceInM...        FHRS   \n3  {'Hygiene': 0, 'Structural': 5, 'ConfidenceInM...        FHRS   \n4  {'Hygiene': 0, 'Structural': 5, 'ConfidenceInM...        FHRS   \n5  {'Hygiene': 0, 'Structural': 0, 'ConfidenceInM...        FHRS   \n6  {'Hygiene': 0, 'Structural': 0, 'ConfidenceInM...        FHRS   \n7  {'Hygiene': 0, 'Structural': 5, 'ConfidenceInM...        FHRS   \n8  {'Hygiene': 0, 'Structural': 0, 'ConfidenceInM...        FHRS   \n9  {'Hygiene': 0, 'Structural': 0, 'ConfidenceInM...        FHRS   \n\n                                             geocode RightToReply  \\\n0   {'longitude': 0.0912164, 'latitude': 51.4867296}                \n1   {'longitude': 0.0908895, 'latitude': 51.4871401}                \n2  {'longitude': 0.0925370007753372, 'latitude': ...                \n3   {'longitude': 0.0916256, 'latitude': 51.4871632}                \n4  {'longitude': 0.0912820026278496, 'latitude': ...                \n5    {'longitude': 0.091566, 'latitude': 51.4877576}                \n6  {'longitude': 0.0859939977526665, 'latitude': ...                \n7  {'longitude': 0.0924199968576431, 'latitude': ...                \n8     {'longitude': 0.09208, 'latitude': 51.4873437}                \n9  {'longitude': 0.0912820026278496, 'latitude': ...                \n\n      Distance NewRatingPending  \\\n0  4646.974612            False   \n1  4647.001583            False   \n2  4646.955931            False   \n3  4646.975587            False   \n4  4646.987290            False   \n5  4646.999554            False   \n6  4646.974010            False   \n7  4646.946071            False   \n8  4646.965635            False   \n9  4646.987290            False   \n\n                                                meta  \\\n0  {'dataSource': None, 'extractDate': '0001-01-0...   \n1  {'dataSource': None, 'extractDate': '0001-01-0...   \n2  {'dataSource': None, 'extractDate': '0001-01-0...   \n3  {'dataSource': None, 'extractDate': '0001-01-0...   \n4  {'dataSource': None, 'extractDate': '0001-01-0...   \n5  {'dataSource': None, 'extractDate': '0001-01-0...   \n6  {'dataSource': None, 'extractDate': '0001-01-0...   \n7  {'dataSource': None, 'extractDate': '0001-01-0...   \n8  {'dataSource': None, 'extractDate': '0001-01-0...   \n9  {'dataSource': None, 'extractDate': '0001-01-0...   \n\n                                               links  \n0  [{'rel': 'self', 'href': 'http://api.ratings.f...  \n1  [{'rel': 'self', 'href': 'http://api.ratings.f...  \n2  [{'rel': 'self', 'href': 'http://api.ratings.f...  \n3  [{'rel': 'self', 'href': 'http://api.ratings.f...  \n4  [{'rel': 'self', 'href': 'http://api.ratings.f...  \n5  [{'rel': 'self', 'href': 'http://api.ratings.f...  \n6  [{'rel': 'self', 'href': 'http://api.ratings.f...  \n7  [{'rel': 'self', 'href': 'http://api.ratings.f...  \n8  [{'rel': 'self', 'href': 'http://api.ratings.f...  \n9  [{'rel': 'self', 'href': 'http://api.ratings.f...  \n\n[10 rows x 28 columns]",
      "text/html": "<div>\n<style scoped>\n    .dataframe tbody tr th:only-of-type {\n        vertical-align: middle;\n    }\n\n    .dataframe tbody tr th {\n        vertical-align: top;\n    }\n\n    .dataframe thead th {\n        text-align: right;\n    }\n</style>\n<table border=\"1\" class=\"dataframe\">\n  <thead>\n    <tr style=\"text-align: right;\">\n      <th></th>\n      <th>_id</th>\n      <th>FHRSID</th>\n      <th>ChangesByServerID</th>\n      <th>LocalAuthorityBusinessID</th>\n      <th>BusinessName</th>\n      <th>BusinessType</th>\n      <th>BusinessTypeID</th>\n      <th>AddressLine1</th>\n      <th>AddressLine2</th>\n      <th>AddressLine3</th>\n      <th>...</th>\n      <th>LocalAuthorityWebSite</th>\n      <th>LocalAuthorityEmailAddress</th>\n      <th>scores</th>\n      <th>SchemeType</th>\n      <th>geocode</th>\n      <th>RightToReply</th>\n      <th>Distance</th>\n      <th>NewRatingPending</th>\n      <th>meta</th>\n      <th>links</th>\n    </tr>\n  </thead>\n  <tbody>\n    <tr>\n      <th>0</th>\n      <td>65cab5ec2f9b69ddb2cb2488</td>\n      <td>694478</td>\n      <td>0</td>\n      <td>PI/000086506</td>\n      <td>Atlantic Fish Bar</td>\n      <td>Takeaway/sandwich shop</td>\n      <td>7844</td>\n      <td>35 Lakedale Road</td>\n      <td></td>\n      <td>Plumstead</td>\n      <td>...</td>\n      <td>http://www.royalgreenwich.gov.uk</td>\n      <td>health@royalgreenwich.gov.uk</td>\n      <td>{'Hygiene': 0, 'Structural': 0, 'ConfidenceInM...</td>\n      <td>FHRS</td>\n      <td>{'longitude': 0.0912164, 'latitude': 51.4867296}</td>\n      <td></td>\n      <td>4646.974612</td>\n      <td>False</td>\n      <td>{'dataSource': None, 'extractDate': '0001-01-0...</td>\n      <td>[{'rel': 'self', 'href': 'http://api.ratings.f...</td>\n    </tr>\n    <tr>\n      <th>1</th>\n      <td>65cab5ec2f9b69ddb2cb24c9</td>\n      <td>940026</td>\n      <td>0</td>\n      <td>PI/000177403</td>\n      <td>Abbi Wines</td>\n      <td>Retailers - other</td>\n      <td>4613</td>\n      <td>12 - 14 Lakedale Road</td>\n      <td></td>\n      <td>Plumstead</td>\n      <td>...</td>\n      <td>http://www.royalgreenwich.gov.uk</td>\n      <td>health@royalgreenwich.gov.uk</td>\n      <td>{'Hygiene': 0, 'Structural': 0, 'ConfidenceInM...</td>\n      <td>FHRS</td>\n      <td>{'longitude': 0.0908895, 'latitude': 51.4871401}</td>\n      <td></td>\n      <td>4647.001583</td>\n      <td>False</td>\n      <td>{'dataSource': None, 'extractDate': '0001-01-0...</td>\n      <td>[{'rel': 'self', 'href': 'http://api.ratings.f...</td>\n    </tr>\n    <tr>\n      <th>2</th>\n      <td>65cab5ec2f9b69ddb2cb244d</td>\n      <td>1380578</td>\n      <td>0</td>\n      <td>14425</td>\n      <td>Howe and Co Fish and Chips - Van 17</td>\n      <td>Mobile caterer</td>\n      <td>7846</td>\n      <td>Restaurant And Premises 107A Plumstead High St...</td>\n      <td></td>\n      <td>Plumstead</td>\n      <td>...</td>\n      <td>http://www.royalgreenwich.gov.uk</td>\n      <td>health@royalgreenwich.gov.uk</td>\n      <td>{'Hygiene': 0, 'Structural': 0, 'ConfidenceInM...</td>\n      <td>FHRS</td>\n      <td>{'longitude': 0.0925370007753372, 'latitude': ...</td>\n      <td></td>\n      <td>4646.955931</td>\n      <td>False</td>\n      <td>{'dataSource': None, 'extractDate': '0001-01-0...</td>\n      <td>[{'rel': 'self', 'href': 'http://api.ratings.f...</td>\n    </tr>\n    <tr>\n      <th>3</th>\n      <td>65cab5ec2f9b69ddb2cb248a</td>\n      <td>909912</td>\n      <td>0</td>\n      <td>PI/000201100</td>\n      <td>Lumbini Grocery Ltd T/A Al-Iman</td>\n      <td>Retailers - other</td>\n      <td>4613</td>\n      <td>17 Lakedale Road</td>\n      <td></td>\n      <td>Plumstead</td>\n      <td>...</td>\n      <td>http://www.royalgreenwich.gov.uk</td>\n      <td>health@royalgreenwich.gov.uk</td>\n      <td>{'Hygiene': 0, 'Structural': 5, 'ConfidenceInM...</td>\n      <td>FHRS</td>\n      <td>{'longitude': 0.0916256, 'latitude': 51.4871632}</td>\n      <td></td>\n      <td>4646.975587</td>\n      <td>False</td>\n      <td>{'dataSource': None, 'extractDate': '0001-01-0...</td>\n      <td>[{'rel': 'self', 'href': 'http://api.ratings.f...</td>\n    </tr>\n    <tr>\n      <th>4</th>\n      <td>65cab5ec2f9b69ddb2cb24a5</td>\n      <td>695204</td>\n      <td>0</td>\n      <td>PI/000177985</td>\n      <td>Tesco</td>\n      <td>Retailers - supermarkets/hypermarkets</td>\n      <td>7840</td>\n      <td>18 Lakedale Road</td>\n      <td></td>\n      <td>Plumstead</td>\n      <td>...</td>\n      <td>http://www.royalgreenwich.gov.uk</td>\n      <td>health@royalgreenwich.gov.uk</td>\n      <td>{'Hygiene': 0, 'Structural': 5, 'ConfidenceInM...</td>\n      <td>FHRS</td>\n      <td>{'longitude': 0.0912820026278496, 'latitude': ...</td>\n      <td></td>\n      <td>4646.987290</td>\n      <td>False</td>\n      <td>{'dataSource': None, 'extractDate': '0001-01-0...</td>\n      <td>[{'rel': 'self', 'href': 'http://api.ratings.f...</td>\n    </tr>\n    <tr>\n      <th>5</th>\n      <td>65cab5ec2f9b69ddb2cb24d2</td>\n      <td>1211907</td>\n      <td>0</td>\n      <td>13217</td>\n      <td>Dosa &amp; Sambal Express</td>\n      <td>Restaurant/Cafe/Canteen</td>\n      <td>1</td>\n      <td>107A Plumstead High Street</td>\n      <td></td>\n      <td>Plumstead</td>\n      <td>...</td>\n      <td>http://www.royalgreenwich.gov.uk</td>\n      <td>health@royalgreenwich.gov.uk</td>\n      <td>{'Hygiene': 0, 'Structural': 0, 'ConfidenceInM...</td>\n      <td>FHRS</td>\n      <td>{'longitude': 0.091566, 'latitude': 51.4877576}</td>\n      <td></td>\n      <td>4646.999554</td>\n      <td>False</td>\n      <td>{'dataSource': None, 'extractDate': '0001-01-0...</td>\n      <td>[{'rel': 'self', 'href': 'http://api.ratings.f...</td>\n    </tr>\n    <tr>\n      <th>6</th>\n      <td>65cab5ec2f9b69ddb2cb2485</td>\n      <td>695241</td>\n      <td>0</td>\n      <td>PI/000179088</td>\n      <td>Plumstead Manor Nursery</td>\n      <td>Caring Premises</td>\n      <td>5</td>\n      <td>Plumstead Manor School Old Mill Road</td>\n      <td></td>\n      <td>Plumstead</td>\n      <td>...</td>\n      <td>http://www.royalgreenwich.gov.uk</td>\n      <td>health@royalgreenwich.gov.uk</td>\n      <td>{'Hygiene': 0, 'Structural': 0, 'ConfidenceInM...</td>\n      <td>FHRS</td>\n      <td>{'longitude': 0.0859939977526665, 'latitude': ...</td>\n      <td></td>\n      <td>4646.974010</td>\n      <td>False</td>\n      <td>{'dataSource': None, 'extractDate': '0001-01-0...</td>\n      <td>[{'rel': 'self', 'href': 'http://api.ratings.f...</td>\n    </tr>\n    <tr>\n      <th>7</th>\n      <td>65cab5ec2f9b69ddb2cb2441</td>\n      <td>695223</td>\n      <td>0</td>\n      <td>PI/000178842</td>\n      <td>Iceland</td>\n      <td>Retailers - supermarkets/hypermarkets</td>\n      <td>7840</td>\n      <td>144 - 146 Plumstead High Street</td>\n      <td></td>\n      <td>Plumstead</td>\n      <td>...</td>\n      <td>http://www.royalgreenwich.gov.uk</td>\n      <td>health@royalgreenwich.gov.uk</td>\n      <td>{'Hygiene': 0, 'Structural': 5, 'ConfidenceInM...</td>\n      <td>FHRS</td>\n      <td>{'longitude': 0.0924199968576431, 'latitude': ...</td>\n      <td></td>\n      <td>4646.946071</td>\n      <td>False</td>\n      <td>{'dataSource': None, 'extractDate': '0001-01-0...</td>\n      <td>[{'rel': 'self', 'href': 'http://api.ratings.f...</td>\n    </tr>\n    <tr>\n      <th>8</th>\n      <td>65cab5ec2f9b69ddb2cb246a</td>\n      <td>694609</td>\n      <td>0</td>\n      <td>PI/000116619</td>\n      <td>Volunteer</td>\n      <td>Pub/bar/nightclub</td>\n      <td>7843</td>\n      <td>130 - 132 Plumstead High Street</td>\n      <td></td>\n      <td>Plumstead</td>\n      <td>...</td>\n      <td>http://www.royalgreenwich.gov.uk</td>\n      <td>health@royalgreenwich.gov.uk</td>\n      <td>{'Hygiene': 0, 'Structural': 0, 'ConfidenceInM...</td>\n      <td>FHRS</td>\n      <td>{'longitude': 0.09208, 'latitude': 51.4873437}</td>\n      <td></td>\n      <td>4646.965635</td>\n      <td>False</td>\n      <td>{'dataSource': None, 'extractDate': '0001-01-0...</td>\n      <td>[{'rel': 'self', 'href': 'http://api.ratings.f...</td>\n    </tr>\n    <tr>\n      <th>9</th>\n      <td>65cab5ec2f9b69ddb2cb24a0</td>\n      <td>694482</td>\n      <td>0</td>\n      <td>PI/000086551</td>\n      <td>Greggs</td>\n      <td>Takeaway/sandwich shop</td>\n      <td>7844</td>\n      <td>6 Lakedale Road</td>\n      <td></td>\n      <td>Plumstead</td>\n      <td>...</td>\n      <td>http://www.royalgreenwich.gov.uk</td>\n      <td>health@royalgreenwich.gov.uk</td>\n      <td>{'Hygiene': 0, 'Structural': 0, 'ConfidenceInM...</td>\n      <td>FHRS</td>\n      <td>{'longitude': 0.0912820026278496, 'latitude': ...</td>\n      <td></td>\n      <td>4646.987290</td>\n      <td>False</td>\n      <td>{'dataSource': None, 'extractDate': '0001-01-0...</td>\n      <td>[{'rel': 'self', 'href': 'http://api.ratings.f...</td>\n    </tr>\n  </tbody>\n</table>\n<p>10 rows × 28 columns</p>\n</div>"
     },
     "execution_count": 12,
     "metadata": {},
     "output_type": "execute_result"
    }
   ],
   "source": [
    "# Convert result to Pandas DataFrame\n",
    "pd.DataFrame(establishments.find(top_query).sort(top_sort).limit(10))"
   ]
  },
  {
   "cell_type": "markdown",
   "id": "67281254",
   "metadata": {},
   "source": [
    "### 4. How many establishments in each Local Authority area have a hygiene score of 0?"
   ]
  },
  {
   "cell_type": "code",
   "execution_count": 13,
   "id": "4eeb227e",
   "metadata": {
    "ExecuteTime": {
     "end_time": "2024-02-13T00:22:47.050333Z",
     "start_time": "2024-02-13T00:22:47.017590Z"
    }
   },
   "outputs": [
    {
     "name": "stdout",
     "output_type": "stream",
     "text": [
      "Number of establishments in each Local Authority with a hygiene score of 0:  55\n",
      "[{'_id': 'Thanet', 'count': 1130},\n",
      " {'_id': 'Greenwich', 'count': 882},\n",
      " {'_id': 'Maidstone', 'count': 713},\n",
      " {'_id': 'Newham', 'count': 711},\n",
      " {'_id': 'Swale', 'count': 686},\n",
      " {'_id': 'Chelmsford', 'count': 680},\n",
      " {'_id': 'Medway', 'count': 672},\n",
      " {'_id': 'Bexley', 'count': 607},\n",
      " {'_id': 'Southend-On-Sea', 'count': 586},\n",
      " {'_id': 'Tendring', 'count': 542}]\n"
     ]
    }
   ],
   "source": [
    "# Create a pipeline that: \n",
    "# 1. Matches establishments with a hygiene score of 0\n",
    "match_query = {'$match': {'scores.Hygiene':0}}\n",
    "\n",
    "# 2. Groups the matches by Local Authority\n",
    "group_query = {'$group': {'_id': '$LocalAuthorityName', 'count': {'$sum':1}}}\n",
    "\n",
    "# 3. Sorts the matches from highest to lowest\n",
    "sorted_query = {'$sort': {'count': -1}}\n",
    "\n",
    "pipeline = [match_query, group_query, sorted_query]\n",
    "zero_result = list(establishments.aggregate(pipeline))\n",
    "\n",
    "# Print the number of documents in the result\n",
    "print('Number of establishments in each Local Authority with a hygiene score of 0: ', len(zero_result))\n",
    "\n",
    "# Print the first 10 results\n",
    "pprint(zero_result[0:10])"
   ]
  },
  {
   "cell_type": "code",
   "execution_count": 14,
   "id": "d8aab364",
   "metadata": {
    "ExecuteTime": {
     "end_time": "2024-02-13T00:22:47.061493Z",
     "start_time": "2024-02-13T00:22:47.048247Z"
    }
   },
   "outputs": [
    {
     "name": "stdout",
     "output_type": "stream",
     "text": [
      "Number of rows in dataframe 55\n"
     ]
    },
    {
     "data": {
      "text/plain": "               _id  count\n0           Thanet   1130\n1        Greenwich    882\n2        Maidstone    713\n3           Newham    711\n4            Swale    686\n5       Chelmsford    680\n6           Medway    672\n7           Bexley    607\n8  Southend-On-Sea    586\n9         Tendring    542",
      "text/html": "<div>\n<style scoped>\n    .dataframe tbody tr th:only-of-type {\n        vertical-align: middle;\n    }\n\n    .dataframe tbody tr th {\n        vertical-align: top;\n    }\n\n    .dataframe thead th {\n        text-align: right;\n    }\n</style>\n<table border=\"1\" class=\"dataframe\">\n  <thead>\n    <tr style=\"text-align: right;\">\n      <th></th>\n      <th>_id</th>\n      <th>count</th>\n    </tr>\n  </thead>\n  <tbody>\n    <tr>\n      <th>0</th>\n      <td>Thanet</td>\n      <td>1130</td>\n    </tr>\n    <tr>\n      <th>1</th>\n      <td>Greenwich</td>\n      <td>882</td>\n    </tr>\n    <tr>\n      <th>2</th>\n      <td>Maidstone</td>\n      <td>713</td>\n    </tr>\n    <tr>\n      <th>3</th>\n      <td>Newham</td>\n      <td>711</td>\n    </tr>\n    <tr>\n      <th>4</th>\n      <td>Swale</td>\n      <td>686</td>\n    </tr>\n    <tr>\n      <th>5</th>\n      <td>Chelmsford</td>\n      <td>680</td>\n    </tr>\n    <tr>\n      <th>6</th>\n      <td>Medway</td>\n      <td>672</td>\n    </tr>\n    <tr>\n      <th>7</th>\n      <td>Bexley</td>\n      <td>607</td>\n    </tr>\n    <tr>\n      <th>8</th>\n      <td>Southend-On-Sea</td>\n      <td>586</td>\n    </tr>\n    <tr>\n      <th>9</th>\n      <td>Tendring</td>\n      <td>542</td>\n    </tr>\n  </tbody>\n</table>\n</div>"
     },
     "execution_count": 14,
     "metadata": {},
     "output_type": "execute_result"
    }
   ],
   "source": [
    "# Convert the result to a Pandas DataFrame\n",
    "zero_df = pd.DataFrame(zero_result)\n",
    "\n",
    "# Display the number of rows in the DataFrame\n",
    "print('Number of rows in dataframe', len(zero_df))\n",
    "\n",
    "# Display the first 10 rows of the DataFrame\n",
    "zero_df.head(10)"
   ]
  }
 ],
 "metadata": {
  "kernelspec": {
   "display_name": "Python 3 (ipykernel)",
   "language": "python",
   "name": "python3"
  },
  "language_info": {
   "codemirror_mode": {
    "name": "ipython",
    "version": 3
   },
   "file_extension": ".py",
   "mimetype": "text/x-python",
   "name": "python",
   "nbconvert_exporter": "python",
   "pygments_lexer": "ipython3",
   "version": "3.10.4"
  }
 },
 "nbformat": 4,
 "nbformat_minor": 5
}
