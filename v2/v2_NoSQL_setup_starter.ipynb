{
 "cells": [
  {
   "cell_type": "markdown",
   "id": "9a57c4c6",
   "metadata": {},
   "source": [
    "# Eat Safe, Love"
   ]
  },
  {
   "cell_type": "markdown",
   "id": "064ef857",
   "metadata": {},
   "source": [
    "## Part 1: Database and Jupyter Notebook Set Up"
   ]
  },
  {
   "cell_type": "markdown",
   "id": "664e3c1f",
   "metadata": {},
   "source": [
    "Import the data provided in the `establishments.json` file from your Terminal. Name the database `uk_food` and the collection `establishments`.\n",
    "\n",
    "Within this markdown cell, copy the line of text you used to import the data from your Terminal. This way, future analysts will be able to repeat your process.\n",
    "\n",
    "To import the dataset via commandline:\n",
    "1. Go to the location of your import files \n",
    "2. Run `mongoimport --type json -d uk_food -c establishments --drop --jsonArray establishments.json`"
   ]
  },
  {
   "cell_type": "code",
   "outputs": [
    {
     "name": "stdout",
     "output_type": "stream",
     "text": [
      "2024-02-14T00:28:09.828-0700\tFailed: open Resources/establishments.json: no such file or directory\r\n",
      "2024-02-14T00:28:09.828-0700\t0 document(s) imported successfully. 0 document(s) failed to import.\r\n"
     ]
    }
   ],
   "source": [
    "# To import in jupyter....\n",
    "! mongoimport --type json -d uk_food -c establishments --drop --jsonArray Resources/establishments.json"
   ],
   "metadata": {
    "collapsed": false,
    "ExecuteTime": {
     "end_time": "2024-02-14T07:28:09.937862Z",
     "start_time": "2024-02-14T07:28:09.810911Z"
    }
   },
   "id": "857b06e462166372",
   "execution_count": 1
  },
  {
   "cell_type": "code",
   "outputs": [],
   "source": [
    "# Import dependencies\n",
    "from pymongo import MongoClient\n",
    "from pprint import pprint"
   ],
   "metadata": {
    "ExecuteTime": {
     "end_time": "2024-02-14T07:28:09.985004Z",
     "start_time": "2024-02-14T07:28:09.939192Z"
    }
   },
   "id": "3ecdd008",
   "execution_count": 2
  },
  {
   "cell_type": "code",
   "execution_count": 3,
   "id": "59390c4a",
   "metadata": {
    "ExecuteTime": {
     "end_time": "2024-02-14T07:28:09.989621Z",
     "start_time": "2024-02-14T07:28:09.985431Z"
    }
   },
   "outputs": [],
   "source": [
    "# Create an instance of MongoClient\n",
    "mongo = MongoClient(port=27017)"
   ]
  },
  {
   "cell_type": "code",
   "execution_count": 4,
   "id": "7f9ececa",
   "metadata": {
    "ExecuteTime": {
     "end_time": "2024-02-14T07:28:09.995002Z",
     "start_time": "2024-02-14T07:28:09.991206Z"
    }
   },
   "outputs": [
    {
     "name": "stdout",
     "output_type": "stream",
     "text": [
      "['admin', 'config', 'local', 'uk_food']\n"
     ]
    }
   ],
   "source": [
    "# confirm that our new database was created\n",
    "print(mongo.list_database_names())"
   ]
  },
  {
   "cell_type": "code",
   "execution_count": 5,
   "id": "71e373c1",
   "metadata": {
    "ExecuteTime": {
     "end_time": "2024-02-14T07:28:09.995742Z",
     "start_time": "2024-02-14T07:28:09.994124Z"
    }
   },
   "outputs": [],
   "source": [
    "# assign the uk_food database to a variable name\n",
    "db = mongo['uk_food']"
   ]
  },
  {
   "cell_type": "code",
   "execution_count": 6,
   "id": "11c9f11b",
   "metadata": {
    "ExecuteTime": {
     "end_time": "2024-02-14T07:28:09.998648Z",
     "start_time": "2024-02-14T07:28:09.996091Z"
    }
   },
   "outputs": [],
   "source": [
    "# assign the collection to a variable\n",
    "establishments = db['establishments']"
   ]
  },
  {
   "cell_type": "code",
   "outputs": [
    {
     "data": {
      "text/plain": "['establishments']"
     },
     "execution_count": 7,
     "metadata": {},
     "output_type": "execute_result"
    }
   ],
   "source": [
    "# review the collections in our new database\n",
    "#establishments = db['establishments']\n",
    "db.list_collection_names()\n"
   ],
   "metadata": {
    "ExecuteTime": {
     "end_time": "2024-02-14T07:28:10.002038Z",
     "start_time": "2024-02-14T07:28:09.998185Z"
    }
   },
   "id": "ef1b89ed",
   "execution_count": 7
  },
  {
   "cell_type": "code",
   "outputs": [
    {
     "name": "stdout",
     "output_type": "stream",
     "text": [
      "{'AddressLine1': 'Wear Bay Road',\n",
      " 'AddressLine2': 'Folkestone',\n",
      " 'AddressLine3': 'Kent',\n",
      " 'AddressLine4': '',\n",
      " 'BusinessName': 'Wear Bay Bowls Club',\n",
      " 'BusinessType': 'Pub/bar/nightclub',\n",
      " 'BusinessTypeID': 7843,\n",
      " 'ChangesByServerID': 0,\n",
      " 'Distance': 4591.821311183521,\n",
      " 'FHRSID': 647177,\n",
      " 'LocalAuthorityBusinessID': 'PI/000041489',\n",
      " 'LocalAuthorityCode': '188',\n",
      " 'LocalAuthorityEmailAddress': 'foodteam@folkestone-hythe.gov.uk',\n",
      " 'LocalAuthorityName': 'Folkestone and Hythe',\n",
      " 'LocalAuthorityWebSite': 'http://www.folkestone-hythe.gov.uk',\n",
      " 'NewRatingPending': False,\n",
      " 'Phone': '',\n",
      " 'PostCode': 'CT19 6PY',\n",
      " 'RatingDate': '2014-03-31T00:00:00',\n",
      " 'RatingKey': 'fhrs_4_en-gb',\n",
      " 'RatingValue': 4,\n",
      " 'RightToReply': '',\n",
      " 'SchemeType': 'FHRS',\n",
      " '_id': ObjectId('65cc5c245f5aaa7009c290f1'),\n",
      " 'geocode': {'latitude': Decimal128('51.086058'),\n",
      "             'longitude': Decimal128('1.196408')},\n",
      " 'links': [{'href': 'https://api.ratings.food.gov.uk/establishments/647177',\n",
      "            'rel': 'self'}],\n",
      " 'meta': {'dataSource': None,\n",
      "          'extractDate': '0001-01-01T00:00:00',\n",
      "          'itemCount': 0,\n",
      "          'pageNumber': 0,\n",
      "          'pageSize': 0,\n",
      "          'returncode': None,\n",
      "          'totalCount': 0,\n",
      "          'totalPages': 0},\n",
      " 'scores': {'ConfidenceInManagement': 10, 'Hygiene': 5, 'Structural': 5}}\n"
     ]
    }
   ],
   "source": [
    "# review a document in the establishments collection\n",
    "pprint(establishments.find_one())"
   ],
   "metadata": {
    "ExecuteTime": {
     "end_time": "2024-02-14T07:28:10.003993Z",
     "start_time": "2024-02-14T07:28:10.001862Z"
    }
   },
   "id": "6a0d92df",
   "execution_count": 8
  },
  {
   "cell_type": "markdown",
   "id": "d5671434",
   "metadata": {},
   "source": [
    "## Part 2: Update the Database"
   ]
  },
  {
   "cell_type": "markdown",
   "id": "314bd884",
   "metadata": {},
   "source": [
    "1. An exciting new halal restaurant just opened in Greenwich, but hasn't been rated yet. The magazine has asked you to include it in your analysis. Add the following restaurant \"Penang Flavours\" to the database."
   ]
  },
  {
   "cell_type": "code",
   "execution_count": 9,
   "id": "c2da7648",
   "metadata": {
    "ExecuteTime": {
     "end_time": "2024-02-14T07:28:10.022032Z",
     "start_time": "2024-02-14T07:28:10.005464Z"
    }
   },
   "outputs": [],
   "source": [
    "# Create a dictionary for the new restaurant data\n",
    "new_restaurant = {\n",
    "    \"BusinessName\":\"Penang Flavours\",\n",
    "    \"BusinessType\":\"Restaurant/Cafe/Canteen\",\n",
    "    \"BusinessTypeID\":\"\",\n",
    "    \"AddressLine1\":\"Penang Flavours\",\n",
    "    \"AddressLine2\":\"146A Plumstead Rd\",\n",
    "    \"AddressLine3\":\"London\",\n",
    "    \"AddressLine4\":\"\",\n",
    "    \"PostCode\":\"SE18 7DY\",\n",
    "    \"Phone\":\"\",\n",
    "    \"LocalAuthorityCode\":\"511\",\n",
    "    \"LocalAuthorityName\":\"Greenwich\",\n",
    "    \"LocalAuthorityWebSite\":\"https://www.royalgreenwich.gov.uk\",\n",
    "    \"LocalAuthorityEmailAddress\":\"health@royalgreenwich.gov.uk\",\n",
    "    \"scores\":{\n",
    "        \"Hygiene\":\"\",\n",
    "        \"Structural\":\"\",\n",
    "        \"ConfidenceInManagement\":\"\"\n",
    "    },\n",
    "    \"SchemeType\":\"FHRS\",\n",
    "    \"geocode\":{\n",
    "        \"longitude\":\"0.08384000\",\n",
    "        \"latitude\":\"51.49014200\"\n",
    "    },\n",
    "    \"RightToReply\":\"\",\n",
    "    \"Distance\":4623.9723280747176,\n",
    "    \"NewRatingPending\":True\n",
    "}"
   ]
  },
  {
   "cell_type": "code",
   "execution_count": 10,
   "id": "a6e5cece",
   "metadata": {
    "ExecuteTime": {
     "end_time": "2024-02-14T07:28:10.022653Z",
     "start_time": "2024-02-14T07:28:10.008325Z"
    }
   },
   "outputs": [
    {
     "data": {
      "text/plain": "InsertOneResult(ObjectId('65cc6b8a74a2c5281cf56cf9'), acknowledged=True)"
     },
     "execution_count": 10,
     "metadata": {},
     "output_type": "execute_result"
    }
   ],
   "source": [
    "# Insert the new restaurant into the collection\n",
    "establishments.insert_one(new_restaurant)"
   ]
  },
  {
   "cell_type": "code",
   "execution_count": 11,
   "id": "63bb10f9",
   "metadata": {
    "ExecuteTime": {
     "end_time": "2024-02-14T07:28:10.023280Z",
     "start_time": "2024-02-14T07:28:10.010938Z"
    }
   },
   "outputs": [
    {
     "name": "stdout",
     "output_type": "stream",
     "text": [
      "{'AddressLine1': 'Penang Flavours',\n",
      " 'AddressLine2': '146A Plumstead Rd',\n",
      " 'AddressLine3': 'London',\n",
      " 'AddressLine4': '',\n",
      " 'BusinessName': 'Penang Flavours',\n",
      " 'BusinessType': 'Restaurant/Cafe/Canteen',\n",
      " 'BusinessTypeID': '',\n",
      " 'Distance': 4623.972328074718,\n",
      " 'LocalAuthorityCode': '511',\n",
      " 'LocalAuthorityEmailAddress': 'health@royalgreenwich.gov.uk',\n",
      " 'LocalAuthorityName': 'Greenwich',\n",
      " 'LocalAuthorityWebSite': 'https://www.royalgreenwich.gov.uk',\n",
      " 'NewRatingPending': True,\n",
      " 'Phone': '',\n",
      " 'PostCode': 'SE18 7DY',\n",
      " 'RightToReply': '',\n",
      " 'SchemeType': 'FHRS',\n",
      " '_id': ObjectId('65cc6b8a74a2c5281cf56cf9'),\n",
      " 'geocode': {'latitude': '51.49014200', 'longitude': '0.08384000'},\n",
      " 'scores': {'ConfidenceInManagement': '', 'Hygiene': '', 'Structural': ''}}\n"
     ]
    }
   ],
   "source": [
    "# Check that the new restaurant was inserted\n",
    "pprint(establishments.find_one(new_restaurant))"
   ]
  },
  {
   "cell_type": "markdown",
   "id": "0ef4395a",
   "metadata": {},
   "source": [
    "2. Find the BusinessTypeID for \"Restaurant/Cafe/Canteen\" and return only the `BusinessTypeID` and `BusinessType` fields."
   ]
  },
  {
   "cell_type": "code",
   "execution_count": 12,
   "id": "93c63829",
   "metadata": {
    "ExecuteTime": {
     "end_time": "2024-02-14T07:28:10.023641Z",
     "start_time": "2024-02-14T07:28:10.013761Z"
    }
   },
   "outputs": [
    {
     "data": {
      "text/plain": "{'_id': ObjectId('65cc5c245f5aaa7009c290f5'),\n 'BusinessType': 'Restaurant/Cafe/Canteen',\n 'BusinessTypeID': 1}"
     },
     "execution_count": 12,
     "metadata": {},
     "output_type": "execute_result"
    }
   ],
   "source": [
    "# Find the BusinessTypeID for \"Restaurant/Cafe/Canteen\" and return only the BusinessTypeID and BusinessType fields\n",
    "query = {'BusinessType': 'Restaurant/Cafe/Canteen'}\n",
    "field = ['BusinessTypeID', 'BusinessType']\n",
    "\n",
    "establishments.find_one(query, field)"
   ]
  },
  {
   "cell_type": "markdown",
   "id": "4e570caf",
   "metadata": {},
   "source": [
    "3. Update the new restaurant with the `BusinessTypeID` you found."
   ]
  },
  {
   "cell_type": "code",
   "execution_count": 13,
   "id": "7f599f3d",
   "metadata": {
    "ExecuteTime": {
     "end_time": "2024-02-14T07:28:10.023899Z",
     "start_time": "2024-02-14T07:28:10.016563Z"
    }
   },
   "outputs": [
    {
     "data": {
      "text/plain": "UpdateResult({'n': 1, 'nModified': 1, 'ok': 1.0, 'updatedExisting': True}, acknowledged=True)"
     },
     "execution_count": 13,
     "metadata": {},
     "output_type": "execute_result"
    }
   ],
   "source": [
    "# Update the new restaurant with the correct BusinessTypeID\n",
    "db.establishments.update_one(new_restaurant, {'$set': {'BusinessTypeID':1}})"
   ]
  },
  {
   "cell_type": "code",
   "execution_count": 14,
   "id": "a6ad16f7",
   "metadata": {
    "ExecuteTime": {
     "end_time": "2024-02-14T07:28:10.056561Z",
     "start_time": "2024-02-14T07:28:10.019124Z"
    }
   },
   "outputs": [
    {
     "name": "stdout",
     "output_type": "stream",
     "text": [
      "{'AddressLine1': 'Penang Flavours',\n",
      " 'AddressLine2': '146A Plumstead Rd',\n",
      " 'AddressLine3': 'London',\n",
      " 'AddressLine4': '',\n",
      " 'BusinessName': 'Penang Flavours',\n",
      " 'BusinessType': 'Restaurant/Cafe/Canteen',\n",
      " 'BusinessTypeID': 1,\n",
      " 'Distance': 4623.972328074718,\n",
      " 'LocalAuthorityCode': '511',\n",
      " 'LocalAuthorityEmailAddress': 'health@royalgreenwich.gov.uk',\n",
      " 'LocalAuthorityName': 'Greenwich',\n",
      " 'LocalAuthorityWebSite': 'https://www.royalgreenwich.gov.uk',\n",
      " 'NewRatingPending': True,\n",
      " 'Phone': '',\n",
      " 'PostCode': 'SE18 7DY',\n",
      " 'RatingValue': None,\n",
      " 'RightToReply': '',\n",
      " 'SchemeType': 'FHRS',\n",
      " '_id': ObjectId('65cc5c264a6cc9079fff67b1'),\n",
      " 'geocode': {'latitude': Decimal128('51.49014200'),\n",
      "             'longitude': Decimal128('0.08384000')},\n",
      " 'scores': {'ConfidenceInManagement': '', 'Hygiene': '', 'Structural': ''}}\n"
     ]
    }
   ],
   "source": [
    "# Confirm that the new restaurant was updated\n",
    "pprint(establishments.find_one({'BusinessName':'Penang Flavours'}))"
   ]
  },
  {
   "cell_type": "markdown",
   "id": "67281254",
   "metadata": {},
   "source": [
    "4. The magazine is not interested in any establishments in Dover, so check how many documents contain the Dover Local Authority. Then, remove any establishments within the Dover Local Authority from the database, and check the number of documents to ensure they were deleted."
   ]
  },
  {
   "cell_type": "code",
   "execution_count": 15,
   "id": "768474a6",
   "metadata": {
    "ExecuteTime": {
     "end_time": "2024-02-14T07:28:10.083081Z",
     "start_time": "2024-02-14T07:28:10.055579Z"
    }
   },
   "outputs": [
    {
     "data": {
      "text/plain": "0"
     },
     "execution_count": 15,
     "metadata": {},
     "output_type": "execute_result"
    }
   ],
   "source": [
    "# Find how many documents have LocalAuthorityName as \"Dover\"\n",
    "establishments.count_documents({'LocalAuthorityName':'Dover'})"
   ]
  },
  {
   "cell_type": "code",
   "execution_count": 16,
   "id": "a11d5f1b",
   "metadata": {
    "ExecuteTime": {
     "end_time": "2024-02-14T07:28:10.105023Z",
     "start_time": "2024-02-14T07:28:10.076682Z"
    }
   },
   "outputs": [
    {
     "data": {
      "text/plain": "DeleteResult({'n': 0, 'ok': 1.0}, acknowledged=True)"
     },
     "execution_count": 16,
     "metadata": {},
     "output_type": "execute_result"
    }
   ],
   "source": [
    "# Delete all documents where LocalAuthorityName is \"Dover\"\n",
    "establishments.delete_many({'LocalAuthorityName':'Dover'})"
   ]
  },
  {
   "cell_type": "code",
   "execution_count": 17,
   "id": "2a51aba0",
   "metadata": {
    "ExecuteTime": {
     "end_time": "2024-02-14T07:28:10.122165Z",
     "start_time": "2024-02-14T07:28:10.098082Z"
    }
   },
   "outputs": [
    {
     "data": {
      "text/plain": "0"
     },
     "execution_count": 17,
     "metadata": {},
     "output_type": "execute_result"
    }
   ],
   "source": [
    "# Check if any remaining documents include Dover\n",
    "establishments.count_documents({'LocalAuthorityName':'Dover'})"
   ]
  },
  {
   "cell_type": "code",
   "execution_count": 18,
   "id": "8c356f7b",
   "metadata": {
    "ExecuteTime": {
     "end_time": "2024-02-14T07:28:10.127304Z",
     "start_time": "2024-02-14T07:28:10.119662Z"
    }
   },
   "outputs": [
    {
     "data": {
      "text/plain": "{'_id': ObjectId('65cc5c245f5aaa7009c290f1'),\n 'FHRSID': 647177,\n 'ChangesByServerID': 0,\n 'LocalAuthorityBusinessID': 'PI/000041489',\n 'BusinessName': 'Wear Bay Bowls Club',\n 'BusinessType': 'Pub/bar/nightclub',\n 'BusinessTypeID': 7843,\n 'AddressLine1': 'Wear Bay Road',\n 'AddressLine2': 'Folkestone',\n 'AddressLine3': 'Kent',\n 'AddressLine4': '',\n 'PostCode': 'CT19 6PY',\n 'Phone': '',\n 'RatingValue': 4,\n 'RatingKey': 'fhrs_4_en-gb',\n 'RatingDate': '2014-03-31T00:00:00',\n 'LocalAuthorityCode': '188',\n 'LocalAuthorityName': 'Folkestone and Hythe',\n 'LocalAuthorityWebSite': 'http://www.folkestone-hythe.gov.uk',\n 'LocalAuthorityEmailAddress': 'foodteam@folkestone-hythe.gov.uk',\n 'scores': {'Hygiene': 5, 'Structural': 5, 'ConfidenceInManagement': 10},\n 'SchemeType': 'FHRS',\n 'geocode': {'longitude': Decimal128('1.196408'),\n  'latitude': Decimal128('51.086058')},\n 'RightToReply': '',\n 'Distance': 4591.821311183521,\n 'NewRatingPending': False,\n 'meta': {'dataSource': None,\n  'extractDate': '0001-01-01T00:00:00',\n  'itemCount': 0,\n  'returncode': None,\n  'totalCount': 0,\n  'totalPages': 0,\n  'pageSize': 0,\n  'pageNumber': 0},\n 'links': [{'rel': 'self',\n   'href': 'https://api.ratings.food.gov.uk/establishments/647177'}]}"
     },
     "execution_count": 18,
     "metadata": {},
     "output_type": "execute_result"
    }
   ],
   "source": [
    "# Check that other documents remain with 'find_one'\n",
    "establishments.find_one({})"
   ]
  },
  {
   "attachments": {},
   "cell_type": "markdown",
   "id": "e9f1662d",
   "metadata": {},
   "source": [
    "5. Some of the number values are stored as strings, when they should be stored as numbers."
   ]
  },
  {
   "attachments": {},
   "cell_type": "markdown",
   "id": "c46df2df",
   "metadata": {},
   "source": [
    "Use `update_many` to convert `latitude` and `longitude` to decimal numbers."
   ]
  },
  {
   "cell_type": "code",
   "execution_count": 19,
   "id": "fd4112ce",
   "metadata": {
    "ExecuteTime": {
     "end_time": "2024-02-14T07:28:10.246563Z",
     "start_time": "2024-02-14T07:28:10.122459Z"
    }
   },
   "outputs": [
    {
     "data": {
      "text/plain": "UpdateResult({'n': 38789, 'nModified': 1, 'ok': 1.0, 'updatedExisting': True}, acknowledged=True)"
     },
     "execution_count": 19,
     "metadata": {},
     "output_type": "execute_result"
    }
   ],
   "source": [
    "# Change the data type from String to Decimal for longitude and latitude\n",
    "establishments.update_many({}, [{'$set': {'geocode.longitude': {'$toDecimal':'$geocode.longitude'},\n",
    "                                          'geocode.latitude': {'$toDecimal':'$geocode.latitude'}}}])"
   ]
  },
  {
   "attachments": {},
   "cell_type": "markdown",
   "id": "142e319c",
   "metadata": {},
   "source": [
    "Use `update_many` to convert `RatingValue` to integer numbers."
   ]
  },
  {
   "cell_type": "code",
   "execution_count": 20,
   "id": "04430a5b",
   "metadata": {
    "ExecuteTime": {
     "end_time": "2024-02-14T07:28:10.273454Z",
     "start_time": "2024-02-14T07:28:10.245826Z"
    }
   },
   "outputs": [
    {
     "data": {
      "text/plain": "UpdateResult({'n': 0, 'nModified': 0, 'ok': 1.0, 'updatedExisting': False}, acknowledged=True)"
     },
     "execution_count": 20,
     "metadata": {},
     "output_type": "execute_result"
    }
   ],
   "source": [
    "# Set non 1-5 Rating Values to Null\n",
    "non_ratings = [\"AwaitingInspection\", \"Awaiting Inspection\", \"AwaitingPublication\", \"Pass\", \"Exempt\"]\n",
    "establishments.update_many({\"RatingValue\": {\"$in\": non_ratings}}, [ {'$set':{ \"RatingValue\" : None}} ])"
   ]
  },
  {
   "cell_type": "code",
   "execution_count": 21,
   "id": "92524ccc",
   "metadata": {
    "ExecuteTime": {
     "end_time": "2024-02-14T07:28:10.367146Z",
     "start_time": "2024-02-14T07:28:10.267226Z"
    }
   },
   "outputs": [
    {
     "data": {
      "text/plain": "UpdateResult({'n': 38789, 'nModified': 1, 'ok': 1.0, 'updatedExisting': True}, acknowledged=True)"
     },
     "execution_count": 21,
     "metadata": {},
     "output_type": "execute_result"
    }
   ],
   "source": [
    "# Change the data type from String to Integer for RatingValue\n",
    "establishments.update_many({}, [{'$set': {'RatingValue': {'$toInt':'$RatingValue'}}}])"
   ]
  },
  {
   "cell_type": "code",
   "execution_count": 22,
   "id": "0deacaf9",
   "metadata": {
    "ExecuteTime": {
     "end_time": "2024-02-14T07:28:10.371322Z",
     "start_time": "2024-02-14T07:28:10.366417Z"
    }
   },
   "outputs": [
    {
     "data": {
      "text/plain": "{'_id': ObjectId('65cc5c245f5aaa7009c290f1'),\n 'FHRSID': 647177,\n 'ChangesByServerID': 0,\n 'LocalAuthorityBusinessID': 'PI/000041489',\n 'BusinessName': 'Wear Bay Bowls Club',\n 'BusinessType': 'Pub/bar/nightclub',\n 'BusinessTypeID': 7843,\n 'AddressLine1': 'Wear Bay Road',\n 'AddressLine2': 'Folkestone',\n 'AddressLine3': 'Kent',\n 'AddressLine4': '',\n 'PostCode': 'CT19 6PY',\n 'Phone': '',\n 'RatingValue': 4,\n 'RatingKey': 'fhrs_4_en-gb',\n 'RatingDate': '2014-03-31T00:00:00',\n 'LocalAuthorityCode': '188',\n 'LocalAuthorityName': 'Folkestone and Hythe',\n 'LocalAuthorityWebSite': 'http://www.folkestone-hythe.gov.uk',\n 'LocalAuthorityEmailAddress': 'foodteam@folkestone-hythe.gov.uk',\n 'scores': {'Hygiene': 5, 'Structural': 5, 'ConfidenceInManagement': 10},\n 'SchemeType': 'FHRS',\n 'geocode': {'longitude': Decimal128('1.196408'),\n  'latitude': Decimal128('51.086058')},\n 'RightToReply': '',\n 'Distance': 4591.821311183521,\n 'NewRatingPending': False,\n 'meta': {'dataSource': None,\n  'extractDate': '0001-01-01T00:00:00',\n  'itemCount': 0,\n  'returncode': None,\n  'totalCount': 0,\n  'totalPages': 0,\n  'pageSize': 0,\n  'pageNumber': 0},\n 'links': [{'rel': 'self',\n   'href': 'https://api.ratings.food.gov.uk/establishments/647177'}]}"
     },
     "execution_count": 22,
     "metadata": {},
     "output_type": "execute_result"
    }
   ],
   "source": [
    "# Check that the coordinates and rating value are now numbers\n",
    "establishments.find_one({})"
   ]
  }
 ],
 "metadata": {
  "kernelspec": {
   "display_name": "Python 3 (ipykernel)",
   "language": "python",
   "name": "python3"
  },
  "language_info": {
   "codemirror_mode": {
    "name": "ipython",
    "version": 3
   },
   "file_extension": ".py",
   "mimetype": "text/x-python",
   "name": "python",
   "nbconvert_exporter": "python",
   "pygments_lexer": "ipython3",
   "version": "3.10.4"
  }
 },
 "nbformat": 4,
 "nbformat_minor": 5
}
